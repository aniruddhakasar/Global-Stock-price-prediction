{
 "cells": [
  {
   "cell_type": "code",
   "execution_count": 1,
   "id": "d6397c5e",
   "metadata": {},
   "outputs": [],
   "source": [
    "import pandas as pd\n",
    "import numpy as np\n",
    "from sklearn.linear_model import LinearRegression\n",
    "from sklearn.pipeline import Pipeline\n",
    "from sklearn.impute import SimpleImputer\n",
    "from sklearn.ensemble import HistGradientBoostingRegressor\n",
    "from sklearn.tree import DecisionTreeRegressor\n",
    "from sklearn.ensemble import RandomForestRegressor\n",
    "from sklearn.model_selection import train_test_split\n",
    "from sklearn.preprocessing import MinMaxScaler\n",
    "from sklearn.metrics import mean_squared_error\n",
    "import matplotlib.pyplot as plt\n",
    "from Cython.Build.Inline import _get_build_extension\n",
    "import seaborn as sns\n",
    "import tensorflow as tf\n",
    "import keras\n"
   ]
  },
  {
   "cell_type": "code",
   "execution_count": 2,
   "id": "1c04f79a",
   "metadata": {},
   "outputs": [
    {
     "data": {
      "text/html": [
       "<div>\n",
       "<style scoped>\n",
       "    .dataframe tbody tr th:only-of-type {\n",
       "        vertical-align: middle;\n",
       "    }\n",
       "\n",
       "    .dataframe tbody tr th {\n",
       "        vertical-align: top;\n",
       "    }\n",
       "\n",
       "    .dataframe thead th {\n",
       "        text-align: right;\n",
       "    }\n",
       "</style>\n",
       "<table border=\"1\" class=\"dataframe\">\n",
       "  <thead>\n",
       "    <tr style=\"text-align: right;\">\n",
       "      <th></th>\n",
       "      <th>Date</th>\n",
       "      <th>Open</th>\n",
       "      <th>High</th>\n",
       "      <th>Low</th>\n",
       "      <th>Close</th>\n",
       "      <th>Adj Close</th>\n",
       "      <th>Volume</th>\n",
       "    </tr>\n",
       "  </thead>\n",
       "  <tbody>\n",
       "    <tr>\n",
       "      <th>0</th>\n",
       "      <td>1996-01-01</td>\n",
       "      <td>11.580205</td>\n",
       "      <td>11.662232</td>\n",
       "      <td>11.488529</td>\n",
       "      <td>11.628456</td>\n",
       "      <td>5.920810</td>\n",
       "      <td>33160.0</td>\n",
       "    </tr>\n",
       "    <tr>\n",
       "      <th>1</th>\n",
       "      <td>1996-01-02</td>\n",
       "      <td>11.628456</td>\n",
       "      <td>11.739433</td>\n",
       "      <td>11.396852</td>\n",
       "      <td>11.483704</td>\n",
       "      <td>5.847106</td>\n",
       "      <td>176162.0</td>\n",
       "    </tr>\n",
       "    <tr>\n",
       "      <th>2</th>\n",
       "      <td>1996-01-03</td>\n",
       "      <td>11.483704</td>\n",
       "      <td>11.599506</td>\n",
       "      <td>11.392027</td>\n",
       "      <td>11.411327</td>\n",
       "      <td>5.810256</td>\n",
       "      <td>104661.0</td>\n",
       "    </tr>\n",
       "    <tr>\n",
       "      <th>3</th>\n",
       "      <td>1996-01-04</td>\n",
       "      <td>11.411327</td>\n",
       "      <td>11.387202</td>\n",
       "      <td>11.155598</td>\n",
       "      <td>11.242449</td>\n",
       "      <td>5.724267</td>\n",
       "      <td>77718.0</td>\n",
       "    </tr>\n",
       "    <tr>\n",
       "      <th>4</th>\n",
       "      <td>1996-01-05</td>\n",
       "      <td>11.242449</td>\n",
       "      <td>11.483704</td>\n",
       "      <td>11.097697</td>\n",
       "      <td>11.464403</td>\n",
       "      <td>5.837280</td>\n",
       "      <td>113469.0</td>\n",
       "    </tr>\n",
       "    <tr>\n",
       "      <th>...</th>\n",
       "      <td>...</td>\n",
       "      <td>...</td>\n",
       "      <td>...</td>\n",
       "      <td>...</td>\n",
       "      <td>...</td>\n",
       "      <td>...</td>\n",
       "      <td>...</td>\n",
       "    </tr>\n",
       "    <tr>\n",
       "      <th>6874</th>\n",
       "      <td>2023-04-24</td>\n",
       "      <td>196.500000</td>\n",
       "      <td>196.699997</td>\n",
       "      <td>194.800003</td>\n",
       "      <td>195.850006</td>\n",
       "      <td>195.850006</td>\n",
       "      <td>5017631.0</td>\n",
       "    </tr>\n",
       "    <tr>\n",
       "      <th>6875</th>\n",
       "      <td>2023-04-25</td>\n",
       "      <td>195.850006</td>\n",
       "      <td>198.800003</td>\n",
       "      <td>195.350006</td>\n",
       "      <td>197.649994</td>\n",
       "      <td>197.649994</td>\n",
       "      <td>5957551.0</td>\n",
       "    </tr>\n",
       "    <tr>\n",
       "      <th>6876</th>\n",
       "      <td>2023-04-26</td>\n",
       "      <td>197.649994</td>\n",
       "      <td>198.949997</td>\n",
       "      <td>196.149994</td>\n",
       "      <td>198.199997</td>\n",
       "      <td>198.199997</td>\n",
       "      <td>4910837.0</td>\n",
       "    </tr>\n",
       "    <tr>\n",
       "      <th>6877</th>\n",
       "      <td>2023-04-27</td>\n",
       "      <td>198.449997</td>\n",
       "      <td>199.949997</td>\n",
       "      <td>197.649994</td>\n",
       "      <td>198.500000</td>\n",
       "      <td>198.500000</td>\n",
       "      <td>5215692.0</td>\n",
       "    </tr>\n",
       "    <tr>\n",
       "      <th>6878</th>\n",
       "      <td>2023-04-28</td>\n",
       "      <td>199.500000</td>\n",
       "      <td>201.550003</td>\n",
       "      <td>199.000000</td>\n",
       "      <td>201.100006</td>\n",
       "      <td>201.100006</td>\n",
       "      <td>7951645.0</td>\n",
       "    </tr>\n",
       "  </tbody>\n",
       "</table>\n",
       "<p>6879 rows × 7 columns</p>\n",
       "</div>"
      ],
      "text/plain": [
       "            Date        Open        High         Low       Close   Adj Close  \\\n",
       "0     1996-01-01   11.580205   11.662232   11.488529   11.628456    5.920810   \n",
       "1     1996-01-02   11.628456   11.739433   11.396852   11.483704    5.847106   \n",
       "2     1996-01-03   11.483704   11.599506   11.392027   11.411327    5.810256   \n",
       "3     1996-01-04   11.411327   11.387202   11.155598   11.242449    5.724267   \n",
       "4     1996-01-05   11.242449   11.483704   11.097697   11.464403    5.837280   \n",
       "...          ...         ...         ...         ...         ...         ...   \n",
       "6874  2023-04-24  196.500000  196.699997  194.800003  195.850006  195.850006   \n",
       "6875  2023-04-25  195.850006  198.800003  195.350006  197.649994  197.649994   \n",
       "6876  2023-04-26  197.649994  198.949997  196.149994  198.199997  198.199997   \n",
       "6877  2023-04-27  198.449997  199.949997  197.649994  198.500000  198.500000   \n",
       "6878  2023-04-28  199.500000  201.550003  199.000000  201.100006  201.100006   \n",
       "\n",
       "         Volume  \n",
       "0       33160.0  \n",
       "1      176162.0  \n",
       "2      104661.0  \n",
       "3       77718.0  \n",
       "4      113469.0  \n",
       "...         ...  \n",
       "6874  5017631.0  \n",
       "6875  5957551.0  \n",
       "6876  4910837.0  \n",
       "6877  5215692.0  \n",
       "6878  7951645.0  \n",
       "\n",
       "[6879 rows x 7 columns]"
      ]
     },
     "execution_count": 2,
     "metadata": {},
     "output_type": "execute_result"
    }
   ],
   "source": [
    "# Load the data from a CSV file\n",
    "df = pd.read_csv(\"F:\\stock price prediction\\TATAPOWER.NS.csv\")\n",
    "df\n"
   ]
  },
  {
   "cell_type": "code",
   "execution_count": 3,
   "id": "f287a5d2",
   "metadata": {},
   "outputs": [
    {
     "data": {
      "text/html": [
       "<div>\n",
       "<style scoped>\n",
       "    .dataframe tbody tr th:only-of-type {\n",
       "        vertical-align: middle;\n",
       "    }\n",
       "\n",
       "    .dataframe tbody tr th {\n",
       "        vertical-align: top;\n",
       "    }\n",
       "\n",
       "    .dataframe thead th {\n",
       "        text-align: right;\n",
       "    }\n",
       "</style>\n",
       "<table border=\"1\" class=\"dataframe\">\n",
       "  <thead>\n",
       "    <tr style=\"text-align: right;\">\n",
       "      <th></th>\n",
       "      <th>Date</th>\n",
       "      <th>Open</th>\n",
       "      <th>High</th>\n",
       "      <th>Low</th>\n",
       "      <th>Close</th>\n",
       "      <th>Adj Close</th>\n",
       "      <th>Volume</th>\n",
       "    </tr>\n",
       "  </thead>\n",
       "  <tbody>\n",
       "    <tr>\n",
       "      <th>0</th>\n",
       "      <td>1996-01-01</td>\n",
       "      <td>11.580205</td>\n",
       "      <td>11.662232</td>\n",
       "      <td>11.488529</td>\n",
       "      <td>11.628456</td>\n",
       "      <td>5.920810</td>\n",
       "      <td>33160.0</td>\n",
       "    </tr>\n",
       "    <tr>\n",
       "      <th>1</th>\n",
       "      <td>1996-01-02</td>\n",
       "      <td>11.628456</td>\n",
       "      <td>11.739433</td>\n",
       "      <td>11.396852</td>\n",
       "      <td>11.483704</td>\n",
       "      <td>5.847106</td>\n",
       "      <td>176162.0</td>\n",
       "    </tr>\n",
       "    <tr>\n",
       "      <th>2</th>\n",
       "      <td>1996-01-03</td>\n",
       "      <td>11.483704</td>\n",
       "      <td>11.599506</td>\n",
       "      <td>11.392027</td>\n",
       "      <td>11.411327</td>\n",
       "      <td>5.810256</td>\n",
       "      <td>104661.0</td>\n",
       "    </tr>\n",
       "    <tr>\n",
       "      <th>3</th>\n",
       "      <td>1996-01-04</td>\n",
       "      <td>11.411327</td>\n",
       "      <td>11.387202</td>\n",
       "      <td>11.155598</td>\n",
       "      <td>11.242449</td>\n",
       "      <td>5.724267</td>\n",
       "      <td>77718.0</td>\n",
       "    </tr>\n",
       "    <tr>\n",
       "      <th>4</th>\n",
       "      <td>1996-01-05</td>\n",
       "      <td>11.242449</td>\n",
       "      <td>11.483704</td>\n",
       "      <td>11.097697</td>\n",
       "      <td>11.464403</td>\n",
       "      <td>5.837280</td>\n",
       "      <td>113469.0</td>\n",
       "    </tr>\n",
       "  </tbody>\n",
       "</table>\n",
       "</div>"
      ],
      "text/plain": [
       "         Date       Open       High        Low      Close  Adj Close    Volume\n",
       "0  1996-01-01  11.580205  11.662232  11.488529  11.628456   5.920810   33160.0\n",
       "1  1996-01-02  11.628456  11.739433  11.396852  11.483704   5.847106  176162.0\n",
       "2  1996-01-03  11.483704  11.599506  11.392027  11.411327   5.810256  104661.0\n",
       "3  1996-01-04  11.411327  11.387202  11.155598  11.242449   5.724267   77718.0\n",
       "4  1996-01-05  11.242449  11.483704  11.097697  11.464403   5.837280  113469.0"
      ]
     },
     "execution_count": 3,
     "metadata": {},
     "output_type": "execute_result"
    }
   ],
   "source": [
    "df.head()"
   ]
  },
  {
   "cell_type": "code",
   "execution_count": 4,
   "id": "520f32e2",
   "metadata": {},
   "outputs": [
    {
     "data": {
      "image/png": "[encoded data removed]",
      "text/plain": [
       "<Figure size 640x480 with 1 Axes>"
      ]
     },
     "metadata": {},
     "output_type": "display_data"
    }
   ],
   "source": [
    "# Create a line plot of the data\n",
    "plt.plot(df['Open'], df['Close'], label='Data')\n",
    "\n",
    "# Add a title and axis labels\n",
    "plt.title('Data Visualization')\n",
    "plt.xlabel('X-axis')\n",
    "plt.ylabel('Y-axis')\n",
    "\n",
    "# Show a legend\n",
    "plt.legend()\n",
    "\n",
    "# Show the plot\n",
    "plt.show()"
   ]
  },
  {
   "cell_type": "code",
   "execution_count": 5,
   "id": "65dbd1f3",
   "metadata": {},
   "outputs": [
    {
     "data": {
      "image/png": "[encoded data removed]",
      "text/plain": [
       "<Figure size 640x480 with 1 Axes>"
      ]
     },
     "metadata": {},
     "output_type": "display_data"
    }
   ],
   "source": [
    "# Create a line plot of the data\n",
    "plt.plot(df['High'], df['Low'], label='Data')\n",
    "\n",
    "# Add a title and axis labels\n",
    "plt.title('Data Visualization')\n",
    "plt.xlabel('X-axis')\n",
    "plt.ylabel('Y-axis')\n",
    "\n",
    "# Show a legend\n",
    "plt.legend()\n",
    "\n",
    "# Show the plot\n",
    "plt.show()"
   ]
  },
  {
   "cell_type": "code",
   "execution_count": 6,
   "id": "41335bb9",
   "metadata": {},
   "outputs": [
    {
     "data": {
      "text/html": [
       "<div>\n",
       "<style scoped>\n",
       "    .dataframe tbody tr th:only-of-type {\n",
       "        vertical-align: middle;\n",
       "    }\n",
       "\n",
       "    .dataframe tbody tr th {\n",
       "        vertical-align: top;\n",
       "    }\n",
       "\n",
       "    .dataframe thead th {\n",
       "        text-align: right;\n",
       "    }\n",
       "</style>\n",
       "<table border=\"1\" class=\"dataframe\">\n",
       "  <thead>\n",
       "    <tr style=\"text-align: right;\">\n",
       "      <th></th>\n",
       "      <th>Date</th>\n",
       "      <th>Open</th>\n",
       "      <th>High</th>\n",
       "      <th>Low</th>\n",
       "      <th>Close</th>\n",
       "      <th>Adj Close</th>\n",
       "      <th>Volume</th>\n",
       "    </tr>\n",
       "  </thead>\n",
       "  <tbody>\n",
       "    <tr>\n",
       "      <th>0</th>\n",
       "      <td>1996-01-01</td>\n",
       "      <td>11.580205</td>\n",
       "      <td>11.662232</td>\n",
       "      <td>11.488529</td>\n",
       "      <td>11.628456</td>\n",
       "      <td>5.920810</td>\n",
       "      <td>33160.0</td>\n",
       "    </tr>\n",
       "    <tr>\n",
       "      <th>1</th>\n",
       "      <td>1996-01-02</td>\n",
       "      <td>11.628456</td>\n",
       "      <td>11.739433</td>\n",
       "      <td>11.396852</td>\n",
       "      <td>11.483704</td>\n",
       "      <td>5.847106</td>\n",
       "      <td>176162.0</td>\n",
       "    </tr>\n",
       "    <tr>\n",
       "      <th>2</th>\n",
       "      <td>1996-01-03</td>\n",
       "      <td>11.483704</td>\n",
       "      <td>11.599506</td>\n",
       "      <td>11.392027</td>\n",
       "      <td>11.411327</td>\n",
       "      <td>5.810256</td>\n",
       "      <td>104661.0</td>\n",
       "    </tr>\n",
       "    <tr>\n",
       "      <th>3</th>\n",
       "      <td>1996-01-04</td>\n",
       "      <td>11.411327</td>\n",
       "      <td>11.387202</td>\n",
       "      <td>11.155598</td>\n",
       "      <td>11.242449</td>\n",
       "      <td>5.724267</td>\n",
       "      <td>77718.0</td>\n",
       "    </tr>\n",
       "    <tr>\n",
       "      <th>4</th>\n",
       "      <td>1996-01-05</td>\n",
       "      <td>11.242449</td>\n",
       "      <td>11.483704</td>\n",
       "      <td>11.097697</td>\n",
       "      <td>11.464403</td>\n",
       "      <td>5.837280</td>\n",
       "      <td>113469.0</td>\n",
       "    </tr>\n",
       "  </tbody>\n",
       "</table>\n",
       "</div>"
      ],
      "text/plain": [
       "         Date       Open       High        Low      Close  Adj Close    Volume\n",
       "0  1996-01-01  11.580205  11.662232  11.488529  11.628456   5.920810   33160.0\n",
       "1  1996-01-02  11.628456  11.739433  11.396852  11.483704   5.847106  176162.0\n",
       "2  1996-01-03  11.483704  11.599506  11.392027  11.411327   5.810256  104661.0\n",
       "3  1996-01-04  11.411327  11.387202  11.155598  11.242449   5.724267   77718.0\n",
       "4  1996-01-05  11.242449  11.483704  11.097697  11.464403   5.837280  113469.0"
      ]
     },
     "execution_count": 6,
     "metadata": {},
     "output_type": "execute_result"
    }
   ],
   "source": [
    "df.head()\n"
   ]
  },
  {
   "cell_type": "code",
   "execution_count": 7,
   "id": "91cf6767",
   "metadata": {},
   "outputs": [],
   "source": [
    "# Feature engineering: add technical indicators\n",
    "df.loc[:, 'MA_7'] = df['Close'].rolling(window=7).mean()\n",
    "df.loc[:,'MA_14'] = df['Close'].rolling(window=14).mean()\n",
    "df.loc[:,'MA_21'] = df['Close'].rolling(window=21).mean()\n",
    "df.loc[:,'EMA_7'] = df['Close'].ewm(span=7, adjust=False).mean()\n",
    "df.loc[:,'EMA_14'] = df['Close'].ewm(span=14, adjust=False).mean()\n",
    "df.loc[:,'EMA_21'] = df['Close'].ewm(span=21, adjust=False).mean()"
   ]
  },
  {
   "cell_type": "code",
   "execution_count": 8,
   "id": "f7615aa2",
   "metadata": {},
   "outputs": [],
   "source": [
    "# Split the data into training, validation, and testing sets\n",
    "train, test = train_test_split(df, test_size=0.2, random_state=42)\n",
    "train, val = train_test_split(train, test_size=0.2, random_state=42)\n"
   ]
  },
  {
   "cell_type": "code",
   "execution_count": 9,
   "id": "e6c8d814",
   "metadata": {},
   "outputs": [],
   "source": [
    "# Create the feature matrix X and the target vector y for each set\n",
    "X_train = train[['Open', 'High', 'Low', 'MA_7', 'MA_14', 'MA_21', 'EMA_7', 'EMA_14', 'EMA_21']]\n",
    "y_train = train['Close']\n",
    "X_val = val[['Open', 'High', 'Low', 'MA_7', 'MA_14', 'MA_21', 'EMA_7', 'EMA_14', 'EMA_21']]\n",
    "y_val = val['Close']\n",
    "X_test = test[['Open', 'High', 'Low', 'MA_7', 'MA_14', 'MA_21', 'EMA_7', 'EMA_14', 'EMA_21']]\n",
    "y_test = test['Close']\n"
   ]
  },
  {
   "cell_type": "code",
   "execution_count": 10,
   "id": "3b26dccc",
   "metadata": {},
   "outputs": [],
   "source": [
    "# Normalize the data using MinMaxScaler\n",
    "from sklearn.preprocessing import MinMaxScaler\n",
    "scaler = MinMaxScaler()\n",
    "df['Open'] = scaler.fit_transform(df[['Open']])\n",
    "df['High'] = scaler.fit_transform(df[['High']])\n",
    "df['Low'] = scaler.fit_transform(df[['Low']])\n",
    "df['Close'] = scaler.fit_transform(df[['Close']])"
   ]
  },
  {
   "cell_type": "code",
   "execution_count": 11,
   "id": "478e624f",
   "metadata": {},
   "outputs": [],
   "source": [
    "# Assuming you have a DataFrame df with columns for features (X) and target variable (y)\n",
    "X = df.drop('Volume', axis=1)  # Assign the feature columns to X\n",
    "y = df['Volume']  # Assign the 'Volume' column to y\n",
    "# Drop rows with missing values from X and update y accordingly\n",
    "X = X.dropna()\n",
    "y = y.loc[X.index]"
   ]
  },
  {
   "cell_type": "code",
   "execution_count": 12,
   "id": "39ad71da",
   "metadata": {},
   "outputs": [],
   "source": [
    "# Find rows with NaN values in y_train\n",
    "nan_indices = np.isnan(y_train)\n",
    "\n",
    "# Remove rows with NaN values from X_train and y_train\n",
    "X_train = X_train[~nan_indices]\n",
    "y_train = y_train[~nan_indices]"
   ]
  },
  {
   "cell_type": "code",
   "execution_count": 13,
   "id": "92f26442",
   "metadata": {},
   "outputs": [],
   "source": [
    "imputer = SimpleImputer(strategy='mean')\n",
    "y_train = imputer.fit_transform(y_train.values.reshape(-1, 1))\n"
   ]
  },
  {
   "cell_type": "code",
   "execution_count": 14,
   "id": "6ca5c16f",
   "metadata": {},
   "outputs": [
    {
     "name": "stderr",
     "output_type": "stream",
     "text": [
      "C:\\Users\\sai\\AppData\\Local\\Programs\\Python\\Python311\\Lib\\site-packages\\sklearn\\utils\\validation.py:1143: DataConversionWarning: A column-vector y was passed when a 1d array was expected. Please change the shape of y to (n_samples, ), for example using ravel().\n",
      "  y = column_or_1d(y, warn=True)\n"
     ]
    },
    {
     "data": {
      "text/html": [
       "<style>#sk-container-id-1 {color: black;background-color: white;}#sk-container-id-1 pre{padding: 0;}#sk-container-id-1 div.sk-toggleable {background-color: white;}#sk-container-id-1 label.sk-toggleable__label {cursor: pointer;display: block;width: 100%;margin-bottom: 0;padding: 0.3em;box-sizing: border-box;text-align: center;}#sk-container-id-1 label.sk-toggleable__label-arrow:before {content: \"▸\";float: left;margin-right: 0.25em;color: #696969;}#sk-container-id-1 label.sk-toggleable__label-arrow:hover:before {color: black;}#sk-container-id-1 div.sk-estimator:hover label.sk-toggleable__label-arrow:before {color: black;}#sk-container-id-1 div.sk-toggleable__content {max-height: 0;max-width: 0;overflow: hidden;text-align: left;background-color: #f0f8ff;}#sk-container-id-1 div.sk-toggleable__content pre {margin: 0.2em;color: black;border-radius: 0.25em;background-color: #f0f8ff;}#sk-container-id-1 input.sk-toggleable__control:checked~div.sk-toggleable__content {max-height: 200px;max-width: 100%;overflow: auto;}#sk-container-id-1 input.sk-toggleable__control:checked~label.sk-toggleable__label-arrow:before {content: \"▾\";}#sk-container-id-1 div.sk-estimator input.sk-toggleable__control:checked~label.sk-toggleable__label {background-color: #d4ebff;}#sk-container-id-1 div.sk-label input.sk-toggleable__control:checked~label.sk-toggleable__label {background-color: #d4ebff;}#sk-container-id-1 input.sk-hidden--visually {border: 0;clip: rect(1px 1px 1px 1px);clip: rect(1px, 1px, 1px, 1px);height: 1px;margin: -1px;overflow: hidden;padding: 0;position: absolute;width: 1px;}#sk-container-id-1 div.sk-estimator {font-family: monospace;background-color: #f0f8ff;border: 1px dotted black;border-radius: 0.25em;box-sizing: border-box;margin-bottom: 0.5em;}#sk-container-id-1 div.sk-estimator:hover {background-color: #d4ebff;}#sk-container-id-1 div.sk-parallel-item::after {content: \"\";width: 100%;border-bottom: 1px solid gray;flex-grow: 1;}#sk-container-id-1 div.sk-label:hover label.sk-toggleable__label {background-color: #d4ebff;}#sk-container-id-1 div.sk-serial::before {content: \"\";position: absolute;border-left: 1px solid gray;box-sizing: border-box;top: 0;bottom: 0;left: 50%;z-index: 0;}#sk-container-id-1 div.sk-serial {display: flex;flex-direction: column;align-items: center;background-color: white;padding-right: 0.2em;padding-left: 0.2em;position: relative;}#sk-container-id-1 div.sk-item {position: relative;z-index: 1;}#sk-container-id-1 div.sk-parallel {display: flex;align-items: stretch;justify-content: center;background-color: white;position: relative;}#sk-container-id-1 div.sk-item::before, #sk-container-id-1 div.sk-parallel-item::before {content: \"\";position: absolute;border-left: 1px solid gray;box-sizing: border-box;top: 0;bottom: 0;left: 50%;z-index: -1;}#sk-container-id-1 div.sk-parallel-item {display: flex;flex-direction: column;z-index: 1;position: relative;background-color: white;}#sk-container-id-1 div.sk-parallel-item:first-child::after {align-self: flex-end;width: 50%;}#sk-container-id-1 div.sk-parallel-item:last-child::after {align-self: flex-start;width: 50%;}#sk-container-id-1 div.sk-parallel-item:only-child::after {width: 0;}#sk-container-id-1 div.sk-dashed-wrapped {border: 1px dashed gray;margin: 0 0.4em 0.5em 0.4em;box-sizing: border-box;padding-bottom: 0.4em;background-color: white;}#sk-container-id-1 div.sk-label label {font-family: monospace;font-weight: bold;display: inline-block;line-height: 1.2em;}#sk-container-id-1 div.sk-label-container {text-align: center;}#sk-container-id-1 div.sk-container {/* jupyter's `normalize.less` sets `[hidden] { display: none; }` but bootstrap.min.css set `[hidden] { display: none !important; }` so we also need the `!important` here to be able to override the default hidden behavior on the sphinx rendered scikit-learn.org. See: https://github.com/scikit-learn/scikit-learn/issues/21755 */display: inline-block !important;position: relative;}#sk-container-id-1 div.sk-text-repr-fallback {display: none;}</style><div id=\"sk-container-id-1\" class=\"sk-top-container\"><div class=\"sk-text-repr-fallback\"><pre>HistGradientBoostingRegressor()</pre><b>In a Jupyter environment, please rerun this cell to show the HTML representation or trust the notebook. <br />On GitHub, the HTML representation is unable to render, please try loading this page with nbviewer.org.</b></div><div class=\"sk-container\" hidden><div class=\"sk-item\"><div class=\"sk-estimator sk-toggleable\"><input class=\"sk-toggleable__control sk-hidden--visually\" id=\"sk-estimator-id-1\" type=\"checkbox\" checked><label for=\"sk-estimator-id-1\" class=\"sk-toggleable__label sk-toggleable__label-arrow\">HistGradientBoostingRegressor</label><div class=\"sk-toggleable__content\"><pre>HistGradientBoostingRegressor()</pre></div></div></div></div></div>"
      ],
      "text/plain": [
       "HistGradientBoostingRegressor()"
      ]
     },
     "execution_count": 14,
     "metadata": {},
     "output_type": "execute_result"
    }
   ],
   "source": [
    "# Create an instance of HistGradientBoostingRegressor\n",
    "model = HistGradientBoostingRegressor()\n",
    "\n",
    "# Fit the model\n",
    "model.fit(X_train, y_train)"
   ]
  },
  {
   "cell_type": "code",
   "execution_count": 15,
   "id": "5fd1559c",
   "metadata": {},
   "outputs": [],
   "source": [
    "# Create an imputer with a chosen strategy (e.g., mean, median, etc.)\n",
    "imputer = SimpleImputer(strategy='mean')\n",
    "\n",
    "# Fit the imputer on the training data and transform X_train\n",
    "X_train = imputer.fit_transform(X_train)"
   ]
  },
  {
   "cell_type": "code",
   "execution_count": 16,
   "id": "5f88485f",
   "metadata": {},
   "outputs": [],
   "source": [
    "# Convert X_train to a DataFrame\n",
    "X_train = pd.DataFrame(X_train)\n",
    "\n",
    "# Drop samples with missing values from X_train\n",
    "X_train = X_train.dropna()"
   ]
  },
  {
   "cell_type": "code",
   "execution_count": 17,
   "id": "3222fe88",
   "metadata": {},
   "outputs": [
    {
     "name": "stderr",
     "output_type": "stream",
     "text": [
      "C:\\Users\\sai\\AppData\\Local\\Temp\\ipykernel_7624\\51474837.py:3: DataConversionWarning: A column-vector y was passed when a 1d array was expected. Please change the shape of y to (n_samples,), for example using ravel().\n",
      "  model.fit(X_train, y_train)\n"
     ]
    },
    {
     "data": {
      "text/html": [
       "<style>#sk-container-id-2 {color: black;background-color: white;}#sk-container-id-2 pre{padding: 0;}#sk-container-id-2 div.sk-toggleable {background-color: white;}#sk-container-id-2 label.sk-toggleable__label {cursor: pointer;display: block;width: 100%;margin-bottom: 0;padding: 0.3em;box-sizing: border-box;text-align: center;}#sk-container-id-2 label.sk-toggleable__label-arrow:before {content: \"▸\";float: left;margin-right: 0.25em;color: #696969;}#sk-container-id-2 label.sk-toggleable__label-arrow:hover:before {color: black;}#sk-container-id-2 div.sk-estimator:hover label.sk-toggleable__label-arrow:before {color: black;}#sk-container-id-2 div.sk-toggleable__content {max-height: 0;max-width: 0;overflow: hidden;text-align: left;background-color: #f0f8ff;}#sk-container-id-2 div.sk-toggleable__content pre {margin: 0.2em;color: black;border-radius: 0.25em;background-color: #f0f8ff;}#sk-container-id-2 input.sk-toggleable__control:checked~div.sk-toggleable__content {max-height: 200px;max-width: 100%;overflow: auto;}#sk-container-id-2 input.sk-toggleable__control:checked~label.sk-toggleable__label-arrow:before {content: \"▾\";}#sk-container-id-2 div.sk-estimator input.sk-toggleable__control:checked~label.sk-toggleable__label {background-color: #d4ebff;}#sk-container-id-2 div.sk-label input.sk-toggleable__control:checked~label.sk-toggleable__label {background-color: #d4ebff;}#sk-container-id-2 input.sk-hidden--visually {border: 0;clip: rect(1px 1px 1px 1px);clip: rect(1px, 1px, 1px, 1px);height: 1px;margin: -1px;overflow: hidden;padding: 0;position: absolute;width: 1px;}#sk-container-id-2 div.sk-estimator {font-family: monospace;background-color: #f0f8ff;border: 1px dotted black;border-radius: 0.25em;box-sizing: border-box;margin-bottom: 0.5em;}#sk-container-id-2 div.sk-estimator:hover {background-color: #d4ebff;}#sk-container-id-2 div.sk-parallel-item::after {content: \"\";width: 100%;border-bottom: 1px solid gray;flex-grow: 1;}#sk-container-id-2 div.sk-label:hover label.sk-toggleable__label {background-color: #d4ebff;}#sk-container-id-2 div.sk-serial::before {content: \"\";position: absolute;border-left: 1px solid gray;box-sizing: border-box;top: 0;bottom: 0;left: 50%;z-index: 0;}#sk-container-id-2 div.sk-serial {display: flex;flex-direction: column;align-items: center;background-color: white;padding-right: 0.2em;padding-left: 0.2em;position: relative;}#sk-container-id-2 div.sk-item {position: relative;z-index: 1;}#sk-container-id-2 div.sk-parallel {display: flex;align-items: stretch;justify-content: center;background-color: white;position: relative;}#sk-container-id-2 div.sk-item::before, #sk-container-id-2 div.sk-parallel-item::before {content: \"\";position: absolute;border-left: 1px solid gray;box-sizing: border-box;top: 0;bottom: 0;left: 50%;z-index: -1;}#sk-container-id-2 div.sk-parallel-item {display: flex;flex-direction: column;z-index: 1;position: relative;background-color: white;}#sk-container-id-2 div.sk-parallel-item:first-child::after {align-self: flex-end;width: 50%;}#sk-container-id-2 div.sk-parallel-item:last-child::after {align-self: flex-start;width: 50%;}#sk-container-id-2 div.sk-parallel-item:only-child::after {width: 0;}#sk-container-id-2 div.sk-dashed-wrapped {border: 1px dashed gray;margin: 0 0.4em 0.5em 0.4em;box-sizing: border-box;padding-bottom: 0.4em;background-color: white;}#sk-container-id-2 div.sk-label label {font-family: monospace;font-weight: bold;display: inline-block;line-height: 1.2em;}#sk-container-id-2 div.sk-label-container {text-align: center;}#sk-container-id-2 div.sk-container {/* jupyter's `normalize.less` sets `[hidden] { display: none; }` but bootstrap.min.css set `[hidden] { display: none !important; }` so we also need the `!important` here to be able to override the default hidden behavior on the sphinx rendered scikit-learn.org. See: https://github.com/scikit-learn/scikit-learn/issues/21755 */display: inline-block !important;position: relative;}#sk-container-id-2 div.sk-text-repr-fallback {display: none;}</style><div id=\"sk-container-id-2\" class=\"sk-top-container\"><div class=\"sk-text-repr-fallback\"><pre>RandomForestRegressor(max_depth=10, random_state=42)</pre><b>In a Jupyter environment, please rerun this cell to show the HTML representation or trust the notebook. <br />On GitHub, the HTML representation is unable to render, please try loading this page with nbviewer.org.</b></div><div class=\"sk-container\" hidden><div class=\"sk-item\"><div class=\"sk-estimator sk-toggleable\"><input class=\"sk-toggleable__control sk-hidden--visually\" id=\"sk-estimator-id-2\" type=\"checkbox\" checked><label for=\"sk-estimator-id-2\" class=\"sk-toggleable__label sk-toggleable__label-arrow\">RandomForestRegressor</label><div class=\"sk-toggleable__content\"><pre>RandomForestRegressor(max_depth=10, random_state=42)</pre></div></div></div></div></div>"
      ],
      "text/plain": [
       "RandomForestRegressor(max_depth=10, random_state=42)"
      ]
     },
     "execution_count": 17,
     "metadata": {},
     "output_type": "execute_result"
    }
   ],
   "source": [
    "# Train a Random Forest Regressor model\n",
    "model = RandomForestRegressor(n_estimators=100, max_depth=10, random_state=42)\n",
    "model.fit(X_train, y_train)"
   ]
  },
  {
   "cell_type": "code",
   "execution_count": 18,
   "id": "410033cd",
   "metadata": {},
   "outputs": [],
   "source": [
    "# Convert X_val to a DataFrame if it's a numpy array\n",
    "X_val = pd.DataFrame(X_val)\n",
    "\n",
    "# Drop samples with missing values\n",
    "X_val = X_val.dropna()\n",
    "\n",
    "# Convert X_val back to a numpy array if desired\n",
    "X_val = X_val.values"
   ]
  },
  {
   "cell_type": "code",
   "execution_count": 19,
   "id": "aa19a430",
   "metadata": {},
   "outputs": [
    {
     "name": "stderr",
     "output_type": "stream",
     "text": [
      "C:\\Users\\sai\\AppData\\Local\\Programs\\Python\\Python311\\Lib\\site-packages\\sklearn\\pipeline.py:405: DataConversionWarning: A column-vector y was passed when a 1d array was expected. Please change the shape of y to (n_samples,), for example using ravel().\n",
      "  self._final_estimator.fit(Xt, y, **fit_params_last_step)\n"
     ]
    },
    {
     "name": "stdout",
     "output_type": "stream",
     "text": [
      "Mean Squared Error on Validation Set: 5724.937766248707\n"
     ]
    }
   ],
   "source": [
    "import numpy as np\n",
    "from sklearn.pipeline import Pipeline\n",
    "from sklearn.impute import SimpleImputer\n",
    "from sklearn.metrics import mean_squared_error\n",
    "\n",
    "# Create an imputer transformer for X\n",
    "imputer_X = SimpleImputer(strategy='mean')\n",
    "X_train_imputed = imputer_X.fit_transform(X_train)\n",
    "X_val_imputed = imputer_X.transform(X_val)\n",
    "\n",
    "# Reshape y_train and y_val to have two dimensions\n",
    "y_train_reshaped = np.array(y_train).reshape(-1, 1)\n",
    "y_val_reshaped = np.array(y_val).reshape(-1, 1)\n",
    "\n",
    "# Create an imputer transformer for y\n",
    "imputer_y = SimpleImputer(strategy='mean')\n",
    "y_train_imputed = imputer_y.fit_transform(y_train_reshaped)\n",
    "y_val_imputed = imputer_y.transform(y_val_reshaped)\n",
    "\n",
    "# Create a pipeline with the imputers and the model\n",
    "pipeline = Pipeline(steps=[('imputer_X', imputer_X), ('imputer_y', imputer_y), ('model', model)])\n",
    "\n",
    "# Fit the pipeline on the training data\n",
    "pipeline.fit(X_train_imputed, y_train_imputed)\n",
    "\n",
    "# Predict the target values for validation set\n",
    "y_val_pred = pipeline.predict(X_val_imputed)\n",
    "\n",
    "# Check if the arrays have the same length\n",
    "if not np.array_equal(y_val_imputed.shape, y_val_pred.shape):\n",
    "    # Resize the array with the smaller length to match the length of the array with the larger length\n",
    "    y_val_pred = np.resize(y_val_pred, y_val_imputed.shape)\n",
    "\n",
    "# Calculate the mean squared error\n",
    "mse = mean_squared_error(y_val_imputed, y_val_pred)\n",
    "\n",
    "print('Mean Squared Error on Validation Set:', mse)\n"
   ]
  },
  {
   "cell_type": "code",
   "execution_count": 27,
   "id": "52a0eeb4",
   "metadata": {},
   "outputs": [
    {
     "name": "stdout",
     "output_type": "stream",
     "text": [
      "Mean Squared Error on Validation Set: 5729.223360980038\n"
     ]
    }
   ],
   "source": [
    "import numpy as np\n",
    "from sklearn.pipeline import Pipeline\n",
    "from sklearn.impute import SimpleImputer\n",
    "from sklearn.metrics import mean_squared_error\n",
    "\n",
    "# Create an imputer transformer for X\n",
    "imputer_X = SimpleImputer(strategy='mean')\n",
    "X_train_imputed = imputer_X.fit_transform(X_train)\n",
    "X_val_imputed = imputer_X.transform(X_val)\n",
    "\n",
    "# Reshape y_train and y_val to have two dimensions\n",
    "y_train_reshaped = np.array(y_train).reshape(-1, 1)\n",
    "y_val_reshaped = np.array(y_val).reshape(-1, 1)\n",
    "\n",
    "# Create an imputer transformer for y\n",
    "imputer_y = SimpleImputer(strategy='mean')\n",
    "y_train_imputed = imputer_y.fit_transform(y_train_reshaped)\n",
    "y_val_imputed = imputer_y.transform(y_val_reshaped)\n",
    "\n",
    "# Create a pipeline with the imputers and the model\n",
    "pipeline = Pipeline(steps=[('imputer_X', imputer_X), ('imputer_y', imputer_y), ('model', model)])\n",
    "\n",
    "# Fit the pipeline on the training data\n",
    "pipeline.fit(X_train_imputed, y_train_imputed)\n",
    "\n",
    "# Predict the target values for validation set\n",
    "y_val_pred = pipeline.predict(X_val_imputed)\n",
    "\n",
    "# Resize y_val to match the length of y_val_pred\n",
    "y_val_resized = np.resize(y_val_imputed, y_val_pred.shape)\n",
    "\n",
    "# Calculate the mean squared error\n",
    "mse = mean_squared_error(y_val_resized, y_val_pred)\n",
    "\n",
    "print('Mean Squared Error on Validation Set:', mse)\n"
   ]
  },
  {
   "cell_type": "code",
   "execution_count": 30,
   "id": "a2375555",
   "metadata": {},
   "outputs": [
    {
     "name": "stderr",
     "output_type": "stream",
     "text": [
      "C:\\Users\\sai\\AppData\\Local\\Temp\\ipykernel_7624\\616413687.py:2: FutureWarning: The default value of numeric_only in DataFrame.corr is deprecated. In a future version, it will default to False. Select only valid columns or specify the value of numeric_only to silence this warning.\n",
      "  sns.heatmap(df.corr(), annot=True, cmap='coolwarm')\n"
     ]
    },
    {
     "data": {
      "image/png": "[encoded data removed]",
      "text/plain": [
       "<Figure size 640x480 with 2 Axes>"
      ]
     },
     "metadata": {},
     "output_type": "display_data"
    }
   ],
   "source": [
    "\n",
    "# Create a heatmap of the correlation matrix\n",
    "sns.heatmap(df.corr(), annot=True, cmap='coolwarm')\n",
    "\n",
    "# Show the plot\n",
    "plt.show()"
   ]
  },
  {
   "cell_type": "code",
   "execution_count": 31,
   "id": "0683d3eb",
   "metadata": {},
   "outputs": [
    {
     "data": {
      "text/plain": [
       "['stock_model.joblib']"
      ]
     },
     "execution_count": 31,
     "metadata": {},
     "output_type": "execute_result"
    }
   ],
   "source": [
    "# Save the model to a file\n",
    "import joblib\n",
    "joblib.dump(model, 'stock_model.joblib')"
   ]
  },
  {
   "cell_type": "code",
   "execution_count": 36,
   "id": "df23fe96",
   "metadata": {},
   "outputs": [
    {
     "name": "stdout",
     "output_type": "stream",
     "text": [
      "Predicted Close Price: [[0.27935543]]\n"
     ]
    }
   ],
   "source": [
    "# Load the model\n",
    "model = joblib.load('stock_model.joblib')\n",
    "\n",
    "# Predict the close price for the new data\n",
    "X_new = [[0.5, 0.6, 0.4, 0.7, 0.8, 0.9, 0.2, 0.3, 0.1]]  # Adjust the number of features to 9\n",
    "y_new_pred = model.predict(X_new)\n",
    "\n",
    "print('Predicted Close Price:', y_new_pred)\n"
   ]
  },
  {
   "cell_type": "code",
   "execution_count": null,
   "id": "3e1380e2",
   "metadata": {},
   "outputs": [],
   "source": []
  }
 ],
 "metadata": {
  "kernelspec": {
   "display_name": "Python 3 (ipykernel)",
   "language": "python",
   "name": "python3"
  },
  "language_info": {
   "codemirror_mode": {
    "name": "ipython",
    "version": 3
   },
   "file_extension": ".py",
   "mimetype": "text/x-python",
   "name": "python",
   "nbconvert_exporter": "python",
   "pygments_lexer": "ipython3",
   "version": "3.11.2"
  }
 },
 "nbformat": 4,
 "nbformat_minor": 5
}

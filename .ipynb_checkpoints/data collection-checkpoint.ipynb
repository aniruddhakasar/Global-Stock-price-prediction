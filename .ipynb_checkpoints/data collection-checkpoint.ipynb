{
 "cells": [
  {
   "cell_type": "code",
   "execution_count": 4,
   "id": "94aa2b8a",
   "metadata": {},
   "outputs": [],
   "source": [
    "import requests\n",
    "from bs4 import BeautifulSoup\n",
    "import csv\n",
    "import pandas as pd"
   ]
  },
  {
   "cell_type": "code",
   "execution_count": 3,
   "id": "93e05290",
   "metadata": {},
   "outputs": [
    {
     "name": "stdout",
     "output_type": "stream",
     "text": [
      "Failed to retrieve data from the website.\n"
     ]
    }
   ],
   "source": [
    "# Specify the URL of the website you want to scrape\n",
    "url = 'https://finance.yahoo.com/quote/TATAPOWER.NS'\n",
    "\n",
    "# Send a GET request to the URL\n",
    "response = requests.get(url)\n",
    "\n",
    "# Check if the request was successful (status code 200)\n",
    "if response.status_code == 200:\n",
    "    # Parse the HTML content of the response using BeautifulSoup\n",
    "    soup = BeautifulSoup(response.content, 'html.parser')\n",
    "    \n",
    "    # Find and extract the desired data from the HTML\n",
    "    # You can use various methods provided by BeautifulSoup to navigate and search the HTML structure\n",
    "    \n",
    "    # Example: Extract all the text from paragraph elements\n",
    "    paragraphs = soup.find_all('p')\n",
    "    for paragraph in paragraphs:\n",
    "        print(paragraph.text)\n",
    "else:\n",
    "    print('Failed to retrieve data from the website.')\n"
   ]
  },
  {
   "cell_type": "code",
   "execution_count": 7,
   "id": "7e26f977",
   "metadata": {},
   "outputs": [
    {
     "name": "stdout",
     "output_type": "stream",
     "text": [
      "Failed to retrieve data from the website.\n"
     ]
    }
   ],
   "source": [
    "# Specify the URL of the website you want to scrape\n",
    "url = 'https://finance.yahoo.com/'\n",
    "\n",
    "# Send a GET request to the URL\n",
    "response = requests.get(url)\n",
    "\n",
    "# Check if the request was successful (status code 200)\n",
    "if response.status_code == 200:\n",
    "    # Parse the HTML content of the response using BeautifulSoup\n",
    "    soup = BeautifulSoup(response.content, 'html.parser')\n",
    "    \n",
    "    # Find and extract the desired data from the HTML\n",
    "    # You can use various methods provided by BeautifulSoup to navigate and search the HTML structure\n",
    "    \n",
    "    # Example: Extract data from a table and save it in a CSV file\n",
    "    table = soup.find('table')  # Assuming the data is in a table\n",
    "    rows = table.find_all('tr')  # Find all rows in the table\n",
    "    \n",
    "    # Create a CSV file and write the data to it\n",
    "    with open('data.csv', 'w', newline='') as csvfile:\n",
    "        writer = csv.writer(csvfile)\n",
    "        \n",
    "        # Write the header row if needed\n",
    "        # header = [header1, header2, ...]\n",
    "        # writer.writerow(header)\n",
    "        \n",
    "        # Write each row of data to the CSV file\n",
    "        for row in rows:\n",
    "            # Extract the data from each cell in the row\n",
    "            cells = row.find_all('td')\n",
    "            data = [cell.text.strip() for cell in cells]\n",
    "            \n",
    "            # Write the data to the CSV file\n",
    "            writer.writerow(data)\n",
    "    \n",
    "    # Alternatively, you can create a DataFrame from the extracted data\n",
    "    # and perform further operations on it using pandas\n",
    "    df = pd.read_csv('data.csv')\n",
    "    print(df.head())  # Display the first few rows of the DataFrame\n",
    "\n",
    "else:\n",
    "    print('Failed to retrieve data from the website.')\n"
   ]
  },
  {
   "cell_type": "code",
   "execution_count": null,
   "id": "0c7b6fb1",
   "metadata": {},
   "outputs": [],
   "source": []
  }
 ],
 "metadata": {
  "kernelspec": {
   "display_name": "Python 3 (ipykernel)",
   "language": "python",
   "name": "python3"
  },
  "language_info": {
   "codemirror_mode": {
    "name": "ipython",
    "version": 3
   },
   "file_extension": ".py",
   "mimetype": "text/x-python",
   "name": "python",
   "nbconvert_exporter": "python",
   "pygments_lexer": "ipython3",
   "version": "3.11.2"
  }
 },
 "nbformat": 4,
 "nbformat_minor": 5
}

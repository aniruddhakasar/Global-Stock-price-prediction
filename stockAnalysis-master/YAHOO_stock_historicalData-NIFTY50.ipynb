{
 "cells": [
  {
   "cell_type": "code",
   "execution_count": 36,
   "metadata": {},
   "outputs": [],
   "source": [
    "import datetime\n",
    "import pandas as pd"
   ]
  },
  {
   "cell_type": "code",
   "execution_count": 37,
   "metadata": {},
   "outputs": [
    {
     "name": "stdout",
     "output_type": "stream",
     "text": [
      "https://query1.finance.yahoo.com/v7/finance/download/%5ENSEI?period1=1589567400&period2=1629052200&interval=1wk&events=history&includeAdjustedClose=true\n",
      "1589567400 1629052200\n"
     ]
    }
   ],
   "source": [
    "ts1 = str(int(datetime.datetime(2020, 5, 16).timestamp())) \n",
    "ts2 = str(int(datetime.datetime(2021, 8, 16).timestamp()))\n",
    "\n",
    "#interval = '1d'\n",
    "interval = '1wk'\n",
    "#interval = '1mo'\n",
    "\n",
    "events = 'history'\n",
    "\n",
    "url = 'https://query1.finance.yahoo.com/v7/finance/download/%5ENSEI?period1='\\\n",
    "       + ts1 + '&period2=' + ts2 + '&interval=' + interval + '&events=history&includeAdjustedClose=true'\n",
    "\n",
    "print(url)\n",
    "print (ts1, ts2)"
   ]
  },
  {
   "cell_type": "code",
   "execution_count": 38,
   "metadata": {},
   "outputs": [
    {
     "data": {
      "text/html": [
       "<style type=\"text/css\">\n",
       "table.dataframe td, table.dataframe th {\n",
       "    border-style: solid;\n",
       "}\n"
      ],
      "text/plain": [
       "<IPython.core.display.HTML object>"
      ]
     },
     "metadata": {},
     "output_type": "display_data"
    }
   ],
   "source": [
    "%%HTML\n",
    "<style type=\"text/css\">\n",
    "table.dataframe td, table.dataframe th {\n",
    "    border-style: solid;\n",
    "}"
   ]
  },
  {
   "cell_type": "code",
   "execution_count": 39,
   "metadata": {},
   "outputs": [],
   "source": [
    "try:\n",
    "    nifty50_df = pd.read_csv(url)\n",
    "except:\n",
    "    print(\"Not able to fetch NIFTY 50 (^NSEI) historical data\")"
   ]
  },
  {
   "cell_type": "code",
   "execution_count": 40,
   "metadata": {},
   "outputs": [
    {
     "data": {
      "text/html": [
       "<div>\n",
       "<style scoped>\n",
       "    .dataframe tbody tr th:only-of-type {\n",
       "        vertical-align: middle;\n",
       "    }\n",
       "\n",
       "    .dataframe tbody tr th {\n",
       "        vertical-align: top;\n",
       "    }\n",
       "\n",
       "    .dataframe thead th {\n",
       "        text-align: right;\n",
       "    }\n",
       "</style>\n",
       "<table border=\"1\" class=\"dataframe\">\n",
       "  <thead>\n",
       "    <tr style=\"text-align: right;\">\n",
       "      <th></th>\n",
       "      <th>Date</th>\n",
       "      <th>Open</th>\n",
       "      <th>High</th>\n",
       "      <th>Low</th>\n",
       "      <th>Close</th>\n",
       "      <th>Adj Close</th>\n",
       "      <th>Volume</th>\n",
       "    </tr>\n",
       "  </thead>\n",
       "  <tbody>\n",
       "    <tr>\n",
       "      <th>0</th>\n",
       "      <td>2020-05-18</td>\n",
       "      <td>9158.299805</td>\n",
       "      <td>9178.549805</td>\n",
       "      <td>8806.750000</td>\n",
       "      <td>9039.250000</td>\n",
       "      <td>9039.250000</td>\n",
       "      <td>3464800.0</td>\n",
       "    </tr>\n",
       "    <tr>\n",
       "      <th>1</th>\n",
       "      <td>2020-05-25</td>\n",
       "      <td>9099.750000</td>\n",
       "      <td>9598.849609</td>\n",
       "      <td>8996.650391</td>\n",
       "      <td>9580.299805</td>\n",
       "      <td>9580.299805</td>\n",
       "      <td>3223400.0</td>\n",
       "    </tr>\n",
       "    <tr>\n",
       "      <th>2</th>\n",
       "      <td>2020-06-01</td>\n",
       "      <td>9726.849609</td>\n",
       "      <td>10177.799805</td>\n",
       "      <td>9706.950195</td>\n",
       "      <td>10142.150391</td>\n",
       "      <td>10142.150391</td>\n",
       "      <td>4121300.0</td>\n",
       "    </tr>\n",
       "    <tr>\n",
       "      <th>3</th>\n",
       "      <td>2020-06-08</td>\n",
       "      <td>10326.750000</td>\n",
       "      <td>10328.500000</td>\n",
       "      <td>9544.349609</td>\n",
       "      <td>9972.900391</td>\n",
       "      <td>9972.900391</td>\n",
       "      <td>3834900.0</td>\n",
       "    </tr>\n",
       "    <tr>\n",
       "      <th>4</th>\n",
       "      <td>2020-06-15</td>\n",
       "      <td>9919.349609</td>\n",
       "      <td>10272.400391</td>\n",
       "      <td>9726.349609</td>\n",
       "      <td>10244.400391</td>\n",
       "      <td>10244.400391</td>\n",
       "      <td>3816400.0</td>\n",
       "    </tr>\n",
       "    <tr>\n",
       "      <th>...</th>\n",
       "      <td>...</td>\n",
       "      <td>...</td>\n",
       "      <td>...</td>\n",
       "      <td>...</td>\n",
       "      <td>...</td>\n",
       "      <td>...</td>\n",
       "      <td>...</td>\n",
       "    </tr>\n",
       "    <tr>\n",
       "      <th>61</th>\n",
       "      <td>2021-07-19</td>\n",
       "      <td>15754.500000</td>\n",
       "      <td>15899.799805</td>\n",
       "      <td>15578.549805</td>\n",
       "      <td>15856.049805</td>\n",
       "      <td>15856.049805</td>\n",
       "      <td>1075800.0</td>\n",
       "    </tr>\n",
       "    <tr>\n",
       "      <th>62</th>\n",
       "      <td>2021-07-26</td>\n",
       "      <td>15849.299805</td>\n",
       "      <td>15893.349609</td>\n",
       "      <td>15513.450195</td>\n",
       "      <td>15763.049805</td>\n",
       "      <td>15763.049805</td>\n",
       "      <td>1698300.0</td>\n",
       "    </tr>\n",
       "    <tr>\n",
       "      <th>63</th>\n",
       "      <td>2021-08-02</td>\n",
       "      <td>15874.900391</td>\n",
       "      <td>16349.450195</td>\n",
       "      <td>15834.650391</td>\n",
       "      <td>16238.200195</td>\n",
       "      <td>16238.200195</td>\n",
       "      <td>1751700.0</td>\n",
       "    </tr>\n",
       "    <tr>\n",
       "      <th>64</th>\n",
       "      <td>2021-08-09</td>\n",
       "      <td>16281.349609</td>\n",
       "      <td>16543.599609</td>\n",
       "      <td>16162.549805</td>\n",
       "      <td>16529.099609</td>\n",
       "      <td>16529.099609</td>\n",
       "      <td>1408500.0</td>\n",
       "    </tr>\n",
       "    <tr>\n",
       "      <th>65</th>\n",
       "      <td>2021-08-16</td>\n",
       "      <td>NaN</td>\n",
       "      <td>NaN</td>\n",
       "      <td>NaN</td>\n",
       "      <td>NaN</td>\n",
       "      <td>NaN</td>\n",
       "      <td>NaN</td>\n",
       "    </tr>\n",
       "  </tbody>\n",
       "</table>\n",
       "<p>66 rows × 7 columns</p>\n",
       "</div>"
      ],
      "text/plain": [
       "          Date          Open          High           Low         Close  \\\n",
       "0   2020-05-18   9158.299805   9178.549805   8806.750000   9039.250000   \n",
       "1   2020-05-25   9099.750000   9598.849609   8996.650391   9580.299805   \n",
       "2   2020-06-01   9726.849609  10177.799805   9706.950195  10142.150391   \n",
       "3   2020-06-08  10326.750000  10328.500000   9544.349609   9972.900391   \n",
       "4   2020-06-15   9919.349609  10272.400391   9726.349609  10244.400391   \n",
       "..         ...           ...           ...           ...           ...   \n",
       "61  2021-07-19  15754.500000  15899.799805  15578.549805  15856.049805   \n",
       "62  2021-07-26  15849.299805  15893.349609  15513.450195  15763.049805   \n",
       "63  2021-08-02  15874.900391  16349.450195  15834.650391  16238.200195   \n",
       "64  2021-08-09  16281.349609  16543.599609  16162.549805  16529.099609   \n",
       "65  2021-08-16           NaN           NaN           NaN           NaN   \n",
       "\n",
       "       Adj Close     Volume  \n",
       "0    9039.250000  3464800.0  \n",
       "1    9580.299805  3223400.0  \n",
       "2   10142.150391  4121300.0  \n",
       "3    9972.900391  3834900.0  \n",
       "4   10244.400391  3816400.0  \n",
       "..           ...        ...  \n",
       "61  15856.049805  1075800.0  \n",
       "62  15763.049805  1698300.0  \n",
       "63  16238.200195  1751700.0  \n",
       "64  16529.099609  1408500.0  \n",
       "65           NaN        NaN  \n",
       "\n",
       "[66 rows x 7 columns]"
      ]
     },
     "execution_count": 40,
     "metadata": {},
     "output_type": "execute_result"
    }
   ],
   "source": [
    "nifty50_df"
   ]
  },
  {
   "cell_type": "code",
   "execution_count": null,
   "metadata": {},
   "outputs": [],
   "source": []
  }
 ],
 "metadata": {
  "kernelspec": {
   "display_name": "Python 3",
   "language": "python",
   "name": "python3"
  },
  "language_info": {
   "codemirror_mode": {
    "name": "ipython",
    "version": 3
   },
   "file_extension": ".py",
   "mimetype": "text/x-python",
   "name": "python",
   "nbconvert_exporter": "python",
   "pygments_lexer": "ipython3",
   "version": "3.8.1"
  }
 },
 "nbformat": 4,
 "nbformat_minor": 2
}

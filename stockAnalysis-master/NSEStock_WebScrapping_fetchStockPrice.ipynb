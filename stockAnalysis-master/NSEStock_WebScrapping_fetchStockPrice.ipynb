{
 "cells": [
  {
   "cell_type": "code",
   "execution_count": 10,
   "metadata": {},
   "outputs": [],
   "source": [
    "import requests\n",
    "from bs4 import BeautifulSoup"
   ]
  },
  {
   "cell_type": "code",
   "execution_count": 11,
   "metadata": {},
   "outputs": [
    {
     "name": "stdout",
     "output_type": "stream",
     "text": [
      "TATAELXSI\n"
     ]
    }
   ],
   "source": [
    "stockcode = \"TATAELXSI\"\n",
    "print(stockcode)"
   ]
  },
  {
   "cell_type": "code",
   "execution_count": 12,
   "metadata": {},
   "outputs": [
    {
     "name": "stdout",
     "output_type": "stream",
     "text": [
      "https://www.nseindia.com/live_market/dynaContent/live_watch/get_quote/GetQuote.jsp?symbol=TATAELXSI\n"
     ]
    },
    {
     "data": {
      "text/plain": [
       "<Response [200]>"
      ]
     },
     "execution_count": 12,
     "metadata": {},
     "output_type": "execute_result"
    }
   ],
   "source": [
    "stock_url  = 'https://www.nseindia.com/live_market/dynaContent/live_watch/get_quote/GetQuote.jsp?symbol='+str(stockcode)\n",
    "print(stock_url)\n",
    "headers = {'user-agent':'Mozilla/5.0 (Windows NT 10.0; Win64; x64) AppleWebKit/537.36 (KHTML, like Gecko) Chrome/79.0.3945.117 Safari/537.36'}\n",
    "response = requests.get(stock_url, headers=headers)\n",
    "response"
   ]
  },
  {
   "cell_type": "code",
   "execution_count": 13,
   "metadata": {},
   "outputs": [],
   "source": [
    "soup = BeautifulSoup(response.text, 'html.parser')"
   ]
  },
  {
   "cell_type": "code",
   "execution_count": 14,
   "metadata": {},
   "outputs": [
    {
     "data": {
      "text/plain": [
       "list"
      ]
     },
     "execution_count": 14,
     "metadata": {},
     "output_type": "execute_result"
    }
   ],
   "source": [
    "data_array = soup.find(id='responseDiv').getText().strip().split(\":\")\n",
    "type (data_array)"
   ]
  },
  {
   "cell_type": "code",
   "execution_count": 15,
   "metadata": {},
   "outputs": [
    {
     "name": "stdout",
     "output_type": "stream",
     "text": [
      "['{\"tradedDate\"', '\"24JUL2020\",\"data\"', '[{\"pricebandupper\"', '\"1,096.25\",\"symbol\"', '\"TATAELXSI\",\"applicableMargin\"', '\"40.00\",\"bcEndDate\"', '\"21-JUL-20\",\"totalSellQuantity\"', '\"-\",\"adhocMargin\"', '\"14.95\",\"companyName\"', '\"Tata Elxsi Limited\",\"marketType\"', '\"N\",\"exDate\"', '\"13-JUL-20\",\"bcStartDate\"', '\"15-JUL-20\",\"css_status_desc\"', '\"Listed\",\"dayHigh\"', '\"913.90\",\"basePrice\"', '\"913.55\",\"securityVar\"', '\"21.55\",\"pricebandlower\"', '\"730.85\",\"sellQuantity5\"', '\"-\",\"sellQuantity4\"', '\"-\",\"sellQuantity3\"', '\"-\",\"cm_adj_high_dt\"', '\"12-FEB-20\",\"sellQuantity2\"', '\"-\",\"dayLow\"', '\"901.00\",\"sellQuantity1\"', '\"-\",\"quantityTraded\"', '\"2,19,181\",\"pChange\"', '\"-0.72\",\"totalTradedValue\"', '\"1,987.03\",\"deliveryToTradedQuantity\"', '\"30.79\",\"totalBuyQuantity\"', '\"6\",\"averagePrice\"', '\"906.57\",\"indexVar\"', '\"-\",\"cm_ffm\"', '\"3,109.06\",\"purpose\"', '\"ANNUAL GENERAL MEETING\\\\/DIVIDEND - RS 16.50 PER SHARE\",\"buyPrice2\"', '\"-\",\"secDate\"', '\"24-Jul-2020 00', '00', '00\",\"buyPrice1\"', '\"907.70\",\"high52\"', '\"1,098.40\",\"previousClose\"', '\"913.55\",\"ndEndDate\"', '\"-\",\"low52\"', '\"499.95\",\"buyPrice4\"', '\"-\",\"buyPrice3\"', '\"-\",\"recordDate\"', '\"-\",\"deliveryQuantity\"', '\"67,486\",\"buyPrice5\"', '\"-\",\"priceBand\"', '\"20\",\"extremeLossMargin\"', '\"3.50\",\"cm_adj_low_dt\"', '\"25-MAR-20\",\"varMargin\"', '\"21.55\",\"sellPrice1\"', '\"-\",\"sellPrice2\"', '\"-\",\"totalTradedVolume\"', '\"2,19,181\",\"sellPrice3\"', '\"-\",\"sellPrice4\"', '\"-\",\"sellPrice5\"', '\"-\",\"change\"', '\"-6.55\",\"surv_indicator\"', '\"-\",\"ndStartDate\"', '\"-\",\"buyQuantity4\"', '\"-\",\"isExDateFlag\"', 'false,\"buyQuantity3\"', '\"-\",\"buyQuantity2\"', '\"-\",\"buyQuantity1\"', '\"6\",\"series\"', '\"EQ\",\"faceValue\"', '\"10.00\",\"buyQuantity5\"', '\"-\",\"closePrice\"', '\"907.70\",\"open\"', '\"909.90\",\"isinCode\"', '\"INE670A01012\",\"lastPrice\"', '\"907.00\"}],\"optLink\"', '\"\",\"otherSeries\"', '[\"EQ\"],\"futLink\"', '\"\",\"lastUpdateTime\"', '\"24-JUL-2020 16', '00', '00\"}']\n"
     ]
    }
   ],
   "source": [
    "print(data_array)"
   ]
  },
  {
   "cell_type": "code",
   "execution_count": 16,
   "metadata": {},
   "outputs": [
    {
     "name": "stdout",
     "output_type": "stream",
     "text": [
      "Index -> 72\n",
      "907.00\n"
     ]
    }
   ],
   "source": [
    "for item in data_array:\n",
    "    if 'lastPrice' in item:\n",
    "        index = data_array.index(item)+1\n",
    "        print(\"Index -> \"+ str(index))\n",
    "        latestPrice=data_array[index].split('\"')[1]\n",
    "        print(latestPrice)"
   ]
  },
  {
   "cell_type": "code",
   "execution_count": null,
   "metadata": {},
   "outputs": [],
   "source": []
  }
 ],
 "metadata": {
  "kernelspec": {
   "display_name": "Python 3",
   "language": "python",
   "name": "python3"
  },
  "language_info": {
   "codemirror_mode": {
    "name": "ipython",
    "version": 3
   },
   "file_extension": ".py",
   "mimetype": "text/x-python",
   "name": "python",
   "nbconvert_exporter": "python",
   "pygments_lexer": "ipython3",
   "version": "3.7.6"
  }
 },
 "nbformat": 4,
 "nbformat_minor": 2
}

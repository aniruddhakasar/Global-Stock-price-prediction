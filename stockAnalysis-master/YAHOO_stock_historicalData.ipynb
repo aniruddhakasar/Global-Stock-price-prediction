{
 "cells": [
  {
   "cell_type": "code",
   "execution_count": 9,
   "metadata": {},
   "outputs": [],
   "source": [
    "import datetime\n",
    "import pandas as pd"
   ]
  },
  {
   "cell_type": "code",
   "execution_count": 14,
   "metadata": {},
   "outputs": [
    {
     "name": "stdout",
     "output_type": "stream",
     "text": [
      "https://query1.finance.yahoo.com/v7/finance/download/SBIN.NS?period1=1595183400&period2=1595615400&interval=1wk&events=history\n",
      "1595183400 1595615400\n"
     ]
    }
   ],
   "source": [
    "stockcode ='SBIN'\n",
    "\n",
    "ts1 = str(int(datetime.datetime(2020, 7, 20).timestamp())) \n",
    "ts2 = str(int(datetime.datetime(2020, 7, 25).timestamp()))\n",
    "\n",
    "#interval = '1d'\n",
    "interval = '1wk'\n",
    "#interval = '1mo'\n",
    "\n",
    "events = 'history'\n",
    "#events = 'div'\n",
    "#events = 'split'\n",
    "\n",
    "url = 'https://query1.finance.yahoo.com/v7/finance/download/'\\\n",
    "      + stockcode + '.NS?period1=' + ts1 + '&period2=' + ts2 + '&interval='\\\n",
    "      + interval + '&events=' + events\n",
    "\n",
    "print(url)\n",
    "print (ts1, ts2)"
   ]
  },
  {
   "cell_type": "code",
   "execution_count": 15,
   "metadata": {},
   "outputs": [
    {
     "name": "stdout",
     "output_type": "stream",
     "text": [
      "         Date        Open        High         Low       Close   Adj Close  \\\n",
      "0  2020-07-20  190.000000  199.100006  188.750000  198.250000  198.250000   \n",
      "1  2020-07-24  195.699997  196.300003  190.649994  191.949997  191.949997   \n",
      "\n",
      "      Volume  \n",
      "0  238032280  \n",
      "1   65221411  \n"
     ]
    }
   ],
   "source": [
    "try:\n",
    "    stockdata = pd.read_csv(url)\n",
    "    print(stockdata)\n",
    "except:\n",
    "    print(\"Not able to fetch value for code : \"+stockcode)\n",
    "    print(\"Either stock code is not correct or could be connectivity issue..\")"
   ]
  },
  {
   "cell_type": "code",
   "execution_count": null,
   "metadata": {},
   "outputs": [],
   "source": []
  }
 ],
 "metadata": {
  "kernelspec": {
   "display_name": "Python 3",
   "language": "python",
   "name": "python3"
  },
  "language_info": {
   "codemirror_mode": {
    "name": "ipython",
    "version": 3
   },
   "file_extension": ".py",
   "mimetype": "text/x-python",
   "name": "python",
   "nbconvert_exporter": "python",
   "pygments_lexer": "ipython3",
   "version": "3.7.6"
  }
 },
 "nbformat": 4,
 "nbformat_minor": 2
}

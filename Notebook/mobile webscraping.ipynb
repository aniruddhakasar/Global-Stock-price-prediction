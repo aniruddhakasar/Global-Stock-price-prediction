{
 "cells": [
  {
   "cell_type": "code",
   "execution_count": 3,
   "id": "b7398055-2678-4a33-8e62-7acab9dee051",
   "metadata": {},
   "outputs": [],
   "source": [
    "import pandas as pd\n",
    "import requests\n",
    "from bs4 import BeautifulSoup\n",
    "import numpy as np\n",
    "     "
   ]
  },
  {
   "cell_type": "code",
   "execution_count": 6,
   "id": "118dc406-0b58-43da-8111-81366318fd9a",
   "metadata": {},
   "outputs": [],
   "source": [
    "query = \"Samsung mobile\"\n",
    "url = f\"https://www.google.com/search?q={query}\""
   ]
  },
  {
   "cell_type": "code",
   "execution_count": 7,
   "id": "df282c92-67d3-4f82-85e5-18ff3b62c6ee",
   "metadata": {},
   "outputs": [],
   "source": [
    "soup=BeautifulSoup(webpage,'lxml')"
   ]
  },
  {
   "cell_type": "code",
   "execution_count": null,
   "id": "8a250162-2bed-4a19-934c-19bc1cdfc6d7",
   "metadata": {},
   "outputs": [],
   "source": [
    "  \n",
    "# Sending HTTP request\n",
    "req = requests.get(url)\n",
    " \n",
    "# Pulling HTTP data from internet\n",
    "sor = BeautifulSoup(req.text, \"html.parser\")\n",
    " \n",
    "# Finding temperature in Celsius\n",
    "temp = sor.find(\"div\", class_='BNeawe').text\n",
    " \n",
    "print(temp)"
   ]
  },
  {
   "cell_type": "code",
   "execution_count": null,
   "id": "3c9bdd0e-2214-4a97-ba51-f4b0799f4e8d",
   "metadata": {},
   "outputs": [],
   "source": []
  },
  {
   "cell_type": "code",
   "execution_count": null,
   "id": "924f3ade-3d5b-463a-87e0-de6d17607dd0",
   "metadata": {},
   "outputs": [],
   "source": []
  },
  {
   "cell_type": "code",
   "execution_count": null,
   "id": "4681cbce-95d8-42eb-ad18-90cb126662d5",
   "metadata": {},
   "outputs": [],
   "source": []
  },
  {
   "cell_type": "code",
   "execution_count": null,
   "id": "34d139e2-ce9a-48d3-ad9b-cf75d1c30bf3",
   "metadata": {},
   "outputs": [],
   "source": []
  },
  {
   "cell_type": "code",
   "execution_count": null,
   "id": "83857565-7e9d-468b-b6a8-6c2383f9d77d",
   "metadata": {},
   "outputs": [],
   "source": []
  },
  {
   "cell_type": "code",
   "execution_count": null,
   "id": "177b3d7b-4cba-43c8-b500-7cdb3ea79056",
   "metadata": {},
   "outputs": [],
   "source": []
  },
  {
   "cell_type": "code",
   "execution_count": null,
   "id": "378a93b5-a5ad-4ffa-9e79-e8d15d12073c",
   "metadata": {},
   "outputs": [],
   "source": []
  },
  {
   "cell_type": "code",
   "execution_count": null,
   "id": "de201845-7643-4f88-8c21-7402e5940b07",
   "metadata": {},
   "outputs": [],
   "source": []
  },
  {
   "cell_type": "code",
   "execution_count": null,
   "id": "968f7b1d-0e27-421d-93bc-f9a3410abce1",
   "metadata": {},
   "outputs": [],
   "source": []
  },
  {
   "cell_type": "code",
   "execution_count": null,
   "id": "308dd389-a878-4383-a73f-069b6fd93fc3",
   "metadata": {},
   "outputs": [],
   "source": []
  },
  {
   "cell_type": "code",
   "execution_count": 9,
   "id": "2441eb41-3be9-42dc-9117-34dd0d624715",
   "metadata": {},
   "outputs": [
    {
     "ename": "SyntaxError",
     "evalue": "expression cannot contain assignment, perhaps you meant \"==\"? (2802336493.py, line 26)",
     "output_type": "error",
     "traceback": [
      "\u001b[1;36m  Cell \u001b[1;32mIn[9], line 26\u001b[1;36m\u001b[0m\n\u001b[1;33m    image_url = item.find('img', data-impdclcc='1')['data:image/webp;base64,UklGRoYPAABXRUJQVlA4IHoPAAC…vIjOcUOSdi7kOTG7zPM7kbJ2mqVkBpXilsXNUugCRWAAAAA==']\u001b[0m\n\u001b[1;37m                                 ^\u001b[0m\n\u001b[1;31mSyntaxError\u001b[0m\u001b[1;31m:\u001b[0m expression cannot contain assignment, perhaps you meant \"==\"?\n"
     ]
    }
   ],
   "source": [
    "import requests\n",
    "from bs4 import BeautifulSoup\n",
    "import pandas as pd\n",
    "\n",
    "# Define the URL of the webpage you want to scrape\n",
    "query = \"Samsung mobile\"\n",
    "url = f\"https://www.google.com/search?q={query}\"\n",
    "# Send an HTTP GET request to the URL\n",
    "response = requests.get(url)\n",
    "\n",
    "if response.status_code == 200:\n",
    "    # Parse the HTML content of the page\n",
    "    soup = BeautifulSoup(response.text, 'html.parser')\n",
    "    \n",
    "    # Initialize lists to store data\n",
    "    image_urls = []\n",
    "    model_names = []\n",
    "    prices = []\n",
    "    \n",
    "    # Locate and extract the relevant data from the webpage\n",
    "    # You'll need to inspect the HTML structure and use appropriate selectors\n",
    "    # Replace the placeholders with actual selectors\n",
    "    ad_items = soup.find_all('div', class_='ad-item')\n",
    "    \n",
    "    for item in ad_items:\n",
    "        image_url = item.find('img', data-impdclcc='1')['data:image/webp;base64,UklGRoYPAABXRUJQVlA4IHoPAAC…vIjOcUOSdi7kOTG7zPM7kbJ2mqVkBpXilsXNUugCRWAAAAA==']\n",
    "        model_name = item.find('id', class_='plantl pla-unit-single-clickable-target clickable-card').text\n",
    "        price = item.find('span', class_='ad-price').text\n",
    "        \n",
    "        # Append the data to respective lists\n",
    "        image_urls.append(image_url)\n",
    "        model_names.append(model_name)\n",
    "        prices.append(price)\n",
    "    \n",
    "    # Create a DataFrame from the extracted data\n",
    "    data = {\n",
    "        'Image URL': image_urls,\n",
    "        'Model Name': model_names,\n",
    "        'Price': prices,\n",
    "    }\n",
    "    \n",
    "    df = pd.DataFrame(data)\n",
    "    \n",
    "    # Save the DataFrame to a CSV file\n",
    "    df.to_csv('ads_data.csv', index=False)\n",
    "    \n",
    "    print(\"Data successfully scraped and saved to 'ads_data.csv'.\")\n",
    "else:\n",
    "    print(\"Failed to retrieve the webpage. Status code:\", response.status_code)\n"
   ]
  },
  {
   "cell_type": "code",
   "execution_count": null,
   "id": "a45b82a0-080e-45a8-bd12-8ad7b132c3df",
   "metadata": {},
   "outputs": [],
   "source": []
  }
 ],
 "metadata": {
  "kernelspec": {
   "display_name": "Python 3 (ipykernel)",
   "language": "python",
   "name": "python3"
  },
  "language_info": {
   "codemirror_mode": {
    "name": "ipython",
    "version": 3
   },
   "file_extension": ".py",
   "mimetype": "text/x-python",
   "name": "python",
   "nbconvert_exporter": "python",
   "pygments_lexer": "ipython3",
   "version": "3.10.9"
  },
  "widgets": {
   "application/vnd.jupyter.widget-state+json": {
    "state": {},
    "version_major": 2,
    "version_minor": 0
   }
  }
 },
 "nbformat": 4,
 "nbformat_minor": 5
}

{
 "cells": [
  {
   "cell_type": "markdown",
   "id": "cd80d208",
   "metadata": {},
   "source": [
    "### Import Library"
   ]
  },
  {
   "cell_type": "code",
   "execution_count": 1,
   "id": "41baaae1",
   "metadata": {},
   "outputs": [],
   "source": [
    "import numpy as np\n",
    "import pandas as pd"
   ]
  },
  {
   "cell_type": "markdown",
   "id": "d097473b",
   "metadata": {},
   "source": [
    "#### Collect and preprocess the data"
   ]
  },
  {
   "cell_type": "code",
   "execution_count": 2,
   "id": "ca82c073",
   "metadata": {},
   "outputs": [],
   "source": [
    "sentences = [\n",
    "    \"I want to buy a car\",\n",
    "    \"Can anyone help me to sell my old car\",\n",
    "    \"I want to sell my old mobile and want to buy a new one\",\n",
    "    \"Hey, how are you?\",\n",
    "    \"Hello, what's going on?\"\n",
    "]"
   ]
  },
  {
   "cell_type": "code",
   "execution_count": 3,
   "id": "65f09317",
   "metadata": {},
   "outputs": [],
   "source": [
    "intents = [\"Buyer\", \"Seller\", \"Buyer & Seller\", \"Neutral\", \"Neutral\"]"
   ]
  },
  {
   "cell_type": "markdown",
   "id": "a5ebcfa0",
   "metadata": {},
   "source": [
    "#### Split the data into training and testing sets"
   ]
  },
  {
   "cell_type": "code",
   "execution_count": 5,
   "id": "87eb1bb2",
   "metadata": {},
   "outputs": [],
   "source": [
    "train_sentences = sentences[:4]\n",
    "test_sentences = sentences[4:]\n",
    "\n",
    "train_intents = intents[:4]\n",
    "test_intents = intents[4:]"
   ]
  },
  {
   "cell_type": "markdown",
   "id": "728a2021",
   "metadata": {},
   "source": [
    "#### Vectorize the sentences and train the model"
   ]
  },
  {
   "cell_type": "code",
   "execution_count": 6,
   "id": "d55b82e8",
   "metadata": {},
   "outputs": [],
   "source": [
    "from sklearn.feature_extraction.text import CountVectorizer\n",
    "vectorizer = CountVectorizer()\n",
    "X_train = vectorizer.fit_transform(train_sentences)\n",
    "y_train = train_intents"
   ]
  },
  {
   "cell_type": "code",
   "execution_count": 7,
   "id": "006c8a1d",
   "metadata": {},
   "outputs": [],
   "source": [
    "from sklearn.naive_bayes import MultinomialNB"
   ]
  },
  {
   "cell_type": "code",
   "execution_count": 8,
   "id": "645a812f",
   "metadata": {},
   "outputs": [
    {
     "data": {
      "text/plain": [
       "MultinomialNB()"
      ]
     },
     "execution_count": 8,
     "metadata": {},
     "output_type": "execute_result"
    }
   ],
   "source": [
    "classifier = MultinomialNB()\n",
    "classifier.fit(X_train, y_train)"
   ]
  },
  {
   "cell_type": "markdown",
   "id": "99196230",
   "metadata": {},
   "source": [
    "#### Evaluate the model"
   ]
  },
  {
   "cell_type": "code",
   "execution_count": 9,
   "id": "da223695",
   "metadata": {},
   "outputs": [],
   "source": [
    "X_test = vectorizer.transform(test_sentences)\n",
    "y_test = test_intents"
   ]
  },
  {
   "cell_type": "code",
   "execution_count": 10,
   "id": "5eba37d8",
   "metadata": {},
   "outputs": [],
   "source": [
    "from sklearn.metrics import accuracy_score\n",
    "y_pred = classifier.predict(X_test)\n",
    "accuracy = accuracy_score(y_test, y_pred)"
   ]
  },
  {
   "cell_type": "code",
   "execution_count": 12,
   "id": "a156540c",
   "metadata": {},
   "outputs": [
    {
     "name": "stdout",
     "output_type": "stream",
     "text": [
      "Accuracy: 0.0\n"
     ]
    }
   ],
   "source": [
    "print(\"Accuracy:\", accuracy)"
   ]
  },
  {
   "cell_type": "code",
   "execution_count": 13,
   "id": "cb7a4319",
   "metadata": {},
   "outputs": [
    {
     "data": {
      "text/plain": [
       "array(['Buyer'], dtype='<U14')"
      ]
     },
     "execution_count": 13,
     "metadata": {},
     "output_type": "execute_result"
    }
   ],
   "source": [
    "y_pred"
   ]
  },
  {
   "cell_type": "markdown",
   "id": "33f5e2e3",
   "metadata": {},
   "source": [
    "#### Save the trained model"
   ]
  },
  {
   "cell_type": "code",
   "execution_count": 14,
   "id": "45b28758",
   "metadata": {},
   "outputs": [],
   "source": [
    "import pickle\n",
    "with open(\"intent_model.pkl\", \"wb\") as file:\n",
    "    pickle.dump(classifier, file)"
   ]
  },
  {
   "cell_type": "code",
   "execution_count": 15,
   "id": "c5c54b60",
   "metadata": {},
   "outputs": [
    {
     "data": {
      "text/plain": [
       "RandomForestClassifier()"
      ]
     },
     "execution_count": 15,
     "metadata": {},
     "output_type": "execute_result"
    }
   ],
   "source": [
    "from sklearn.ensemble import RandomForestClassifier\n",
    "classifier = RandomForestClassifier()\n",
    "classifier.fit(X_train, y_train)"
   ]
  },
  {
   "cell_type": "code",
   "execution_count": 16,
   "id": "f2b4beb4",
   "metadata": {},
   "outputs": [],
   "source": [
    "# Step 5: Evaluate the model\n",
    "X_test = vectorizer.transform(test_sentences)\n",
    "y_test = test_intents"
   ]
  },
  {
   "cell_type": "code",
   "execution_count": 24,
   "id": "92abe3dd",
   "metadata": {},
   "outputs": [],
   "source": [
    "y_predr = classifier.predict(X_test)\n",
    "accuracy = accuracy_score(y_test, y_pred)"
   ]
  },
  {
   "cell_type": "code",
   "execution_count": 25,
   "id": "298cf0ef",
   "metadata": {},
   "outputs": [
    {
     "name": "stdout",
     "output_type": "stream",
     "text": [
      "Accuracy: 1.0\n"
     ]
    }
   ],
   "source": [
    "print(\"Accuracy:\", accuracy)"
   ]
  },
  {
   "cell_type": "code",
   "execution_count": 26,
   "id": "b793d6c2",
   "metadata": {},
   "outputs": [
    {
     "data": {
      "text/plain": [
       "DecisionTreeClassifier()"
      ]
     },
     "execution_count": 26,
     "metadata": {},
     "output_type": "execute_result"
    }
   ],
   "source": [
    "from sklearn.tree import DecisionTreeClassifier\n",
    "classifier = DecisionTreeClassifier()\n",
    "classifier.fit(X_train, y_train)"
   ]
  },
  {
   "cell_type": "code",
   "execution_count": 27,
   "id": "56efe539",
   "metadata": {},
   "outputs": [],
   "source": [
    "X_test = vectorizer.transform(test_sentences)\n",
    "y_test = test_intents"
   ]
  },
  {
   "cell_type": "code",
   "execution_count": 28,
   "id": "fcd4b81f",
   "metadata": {},
   "outputs": [],
   "source": [
    "y_predd = classifier.predict(X_test)\n",
    "accuracy = accuracy_score(y_test, y_pred)"
   ]
  },
  {
   "cell_type": "code",
   "execution_count": 29,
   "id": "a2654531",
   "metadata": {},
   "outputs": [
    {
     "name": "stdout",
     "output_type": "stream",
     "text": [
      "Accuracy: 1.0\n"
     ]
    }
   ],
   "source": [
    "print(\"Accuracy:\", accuracy)"
   ]
  },
  {
   "cell_type": "code",
   "execution_count": 30,
   "id": "24bc6991",
   "metadata": {},
   "outputs": [
    {
     "data": {
      "text/plain": [
       "array(['Neutral'], dtype='<U14')"
      ]
     },
     "execution_count": 30,
     "metadata": {},
     "output_type": "execute_result"
    }
   ],
   "source": [
    "y_pred"
   ]
  },
  {
   "cell_type": "code",
   "execution_count": null,
   "id": "a05aa192",
   "metadata": {},
   "outputs": [],
   "source": []
  }
 ],
 "metadata": {
  "kernelspec": {
   "display_name": "Python 3 (ipykernel)",
   "language": "python",
   "name": "python3"
  },
  "language_info": {
   "codemirror_mode": {
    "name": "ipython",
    "version": 3
   },
   "file_extension": ".py",
   "mimetype": "text/x-python",
   "name": "python",
   "nbconvert_exporter": "python",
   "pygments_lexer": "ipython3",
   "version": "3.9.12"
  }
 },
 "nbformat": 4,
 "nbformat_minor": 5
}

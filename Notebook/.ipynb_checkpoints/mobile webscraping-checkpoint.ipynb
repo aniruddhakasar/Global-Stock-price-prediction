{
 "cells": [
  {
   "cell_type": "code",
   "execution_count": null,
   "id": "6f5841fc-c51f-4c93-8348-42beeabbd7c3",
   "metadata": {},
   "outputs": [],
   "source": [
    "https://www.google.com/search?q=samsung+mobile&rlz=1C1FKPE_enIN1058IN1058&oq=samsung+mobile&aqs=chrome.0.0i271j46i199i433i465i512j0i131i433i512l2j0i457i512j0i402i650l2j0i131i433i512j0i512l2.6792j0j15&sourceid=chrome&ie=UTF-8"
   ]
  },
  {
   "cell_type": "code",
   "execution_count": 3,
   "id": "b7398055-2678-4a33-8e62-7acab9dee051",
   "metadata": {},
   "outputs": [],
   "source": [
    "import pandas as pd\n",
    "import requests\n",
    "from bs4 import BeautifulSoup\n",
    "import numpy as np\n",
    "     "
   ]
  },
  {
   "cell_type": "code",
   "execution_count": 4,
   "id": "118dc406-0b58-43da-8111-81366318fd9a",
   "metadata": {},
   "outputs": [
    {
     "ename": "SyntaxError",
     "evalue": "unterminated string literal (detected at line 1) (1287356885.py, line 1)",
     "output_type": "error",
     "traceback": [
      "\u001b[1;36m  Cell \u001b[1;32mIn[4], line 1\u001b[1;36m\u001b[0m\n\u001b[1;33m    webpage=requests.get('https://www.google.com/search?q=samsung+mobile&rlz=1C1FKPE_enIN1058IN1058&oq=samsung+mobile&aqs=chrome.0.0i271j46i199i433i465i512j0i131i433i512l2j0i457i512j0i402i650l2j0i131i433i512j0i512l2.6792j0j15&sourceid=chrome&ie=UTF-8\").text\u001b[0m\n\u001b[1;37m                         ^\u001b[0m\n\u001b[1;31mSyntaxError\u001b[0m\u001b[1;31m:\u001b[0m unterminated string literal (detected at line 1)\n"
     ]
    }
   ],
   "source": [
    "webpage=requests.get('https://www.google.com/search?q=samsung+mobile&rlz=1C1FKPE_enIN1058IN1058&oq=samsung+mobile&aqs=chrome.0.0i271j46i199i433i465i512j0i131i433i512l2j0i457i512j0i402i650l2j0i131i433i512j0i512l2.6792j0j15&sourceid=chrome&ie=UTF-8\").text"
   ]
  },
  {
   "cell_type": "code",
   "execution_count": null,
   "id": "2441eb41-3be9-42dc-9117-34dd0d624715",
   "metadata": {},
   "outputs": [],
   "source": []
  },
  {
   "cell_type": "code",
   "execution_count": null,
   "id": "a45b82a0-080e-45a8-bd12-8ad7b132c3df",
   "metadata": {},
   "outputs": [],
   "source": []
  }
 ],
 "metadata": {
  "kernelspec": {
   "display_name": "Python 3 (ipykernel)",
   "language": "python",
   "name": "python3"
  },
  "language_info": {
   "codemirror_mode": {
    "name": "ipython",
    "version": 3
   },
   "file_extension": ".py",
   "mimetype": "text/x-python",
   "name": "python",
   "nbconvert_exporter": "python",
   "pygments_lexer": "ipython3",
   "version": "3.10.9"
  }
 },
 "nbformat": 4,
 "nbformat_minor": 5
}

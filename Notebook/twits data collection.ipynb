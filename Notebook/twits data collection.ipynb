{
 "cells": [
  {
   "cell_type": "code",
   "execution_count": 15,
   "id": "bc0eaf83",
   "metadata": {},
   "outputs": [
    {
     "name": "stdout",
     "output_type": "stream",
     "text": [
      "Collecting nltkNote: you may need to restart the kernel to use updated packages.\n",
      "\n",
      "  Downloading nltk-3.8.1-py3-none-any.whl (1.5 MB)\n",
      "     ---------------------------------------- 0.0/1.5 MB ? eta -:--:--\n",
      "     -- ------------------------------------- 0.1/1.5 MB 3.0 MB/s eta 0:00:01\n",
      "     ------ --------------------------------- 0.3/1.5 MB 2.6 MB/s eta 0:00:01\n",
      "     -------- ------------------------------- 0.3/1.5 MB 3.3 MB/s eta 0:00:01\n",
      "     ---------- ----------------------------- 0.4/1.5 MB 2.1 MB/s eta 0:00:01\n",
      "     ------------- -------------------------- 0.5/1.5 MB 2.5 MB/s eta 0:00:01\n",
      "     -------------- ------------------------- 0.6/1.5 MB 1.9 MB/s eta 0:00:01\n",
      "     ---------------------- ----------------- 0.8/1.5 MB 2.6 MB/s eta 0:00:01\n",
      "     --------------------------- ------------ 1.0/1.5 MB 2.8 MB/s eta 0:00:01\n",
      "     --------------------------------- ------ 1.3/1.5 MB 3.0 MB/s eta 0:00:01\n",
      "     ---------------------------------------  1.5/1.5 MB 3.3 MB/s eta 0:00:01\n",
      "     ---------------------------------------- 1.5/1.5 MB 3.1 MB/s eta 0:00:00\n",
      "Requirement already satisfied: click in c:\\users\\sai\\appdata\\local\\programs\\python\\python311\\lib\\site-packages (from nltk) (8.1.3)\n",
      "Requirement already satisfied: joblib in c:\\users\\sai\\appdata\\local\\programs\\python\\python311\\lib\\site-packages (from nltk) (1.2.0)\n",
      "Collecting regex>=2021.8.3 (from nltk)\n",
      "  Obtaining dependency information for regex>=2021.8.3 from https://files.pythonhosted.org/packages/50/6a/cd59b2e1d6817858e3f332b4128e9246bf8408a7a791f8b77b08633a959d/regex-2023.6.3-cp311-cp311-win_amd64.whl.metadata\n",
      "  Downloading regex-2023.6.3-cp311-cp311-win_amd64.whl.metadata (41 kB)\n",
      "     ---------------------------------------- 0.0/42.0 kB ? eta -:--:--\n",
      "     ---------------------------------------- 42.0/42.0 kB 2.0 MB/s eta 0:00:00\n",
      "Requirement already satisfied: tqdm in c:\\users\\sai\\appdata\\local\\programs\\python\\python311\\lib\\site-packages (from nltk) (4.65.0)\n",
      "Requirement already satisfied: colorama in c:\\users\\sai\\appdata\\local\\programs\\python\\python311\\lib\\site-packages (from click->nltk) (0.4.6)\n",
      "Downloading regex-2023.6.3-cp311-cp311-win_amd64.whl (268 kB)\n",
      "   ---------------------------------------- 0.0/268.0 kB ? eta -:--:--\n",
      "   ------------------------------ --------- 204.8/268.0 kB 6.3 MB/s eta 0:00:01\n",
      "   ---------------------------------------  266.2/268.0 kB 2.7 MB/s eta 0:00:01\n",
      "   ---------------------------------------- 268.0/268.0 kB 1.8 MB/s eta 0:00:00\n",
      "Installing collected packages: regex, nltk\n",
      "Successfully installed nltk-3.8.1 regex-2023.6.3\n"
     ]
    }
   ],
   "source": [
    "pip install nltk"
   ]
  },
  {
   "cell_type": "code",
   "execution_count": 13,
   "id": "2414e1fe",
   "metadata": {},
   "outputs": [
    {
     "name": "stdout",
     "output_type": "stream",
     "text": [
      "Requirement already satisfied: cchardet in c:\\users\\sai\\appdata\\local\\programs\\python\\python311\\lib\\site-packages (2.1.7)\n",
      "Note: you may need to restart the kernel to use updated packages.\n"
     ]
    }
   ],
   "source": [
    "pip install cchardet"
   ]
  },
  {
   "cell_type": "code",
   "execution_count": null,
   "id": "a3ce9ca9",
   "metadata": {},
   "outputs": [],
   "source": [
    "# Library imports\n",
    "import twint\n",
    "import nest_asyncio\n",
    "nest_asyncio.apply()\n",
    "import pandas as pd\n",
    "from datetime import datetime, timedelta\n",
    "from nltk.sentiment.vader import SentimentIntensityAnalyzer\n",
    "\n",
    "# Function to collect tweets related to the stock market\n",
    "def collect_tweets(query, since_date, until_date, max_tweets):\n",
    "    c = twint.Config()\n",
    "    c.Lang = 'en'\n",
    "    c.Search = query\n",
    "    c.Since = since_date\n",
    "    c.Until = until_date\n",
    "    c.Limit = max_tweets\n",
    "    c.Pandas = True\n",
    "\n",
    "    twint.run.Search(c)\n",
    "    tweets_df = twint.storage.panda.Tweets_df\n",
    "    return tweets_df[['date', 'tweet']]\n",
    "\n",
    "# Function for sentiment analysis using VADER\n",
    "def perform_sentiment_analysis(tweets_df):\n",
    "    sia = SentimentIntensityAnalyzer()\n",
    "    tweets_df['sentiment_score'] = tweets_df['tweet'].apply(lambda x: sia.polarity_scores(x)['compound'])\n",
    "    tweets_df['sentiment_label'] = tweets_df['sentiment_score'].apply(lambda x: 'Positive' if x >= 0.05 else ('Negative' if x <= -0.05 else 'Neutral'))\n",
    "    return tweets_df\n",
    "\n",
    "# Main function\n",
    "def main():\n",
    "    # Define the query related to the stock market\n",
    "    query = \"stock market\"\n",
    "\n",
    "    # Get today's date and previous date\n",
    "    today = datetime.now().strftime(\"%Y-%m-%d\")\n",
    "    prev_date = (datetime.now() - timedelta(days=1)).strftime(\"%Y-%m-%d\")\n",
    "\n",
    "    # Collect tweets related to the stock market\n",
    "    tweets_df = collect_tweets(query, prev_date, today, max_tweets=1000)\n",
    "\n",
    "    # Perform sentiment analysis on the collected tweets\n",
    "    tweets_with_sentiment = perform_sentiment_analysis(tweets_df)\n",
    "\n",
    "    # Print the result\n",
    "    print(tweets_with_sentiment)\n",
    "\n",
    "if __name__ == \"__main__\":\n",
    "    main()\n"
   ]
  },
  {
   "cell_type": "code",
   "execution_count": null,
   "id": "692f53fc",
   "metadata": {},
   "outputs": [],
   "source": []
  }
 ],
 "metadata": {
  "kernelspec": {
   "display_name": "Python 3 (ipykernel)",
   "language": "python",
   "name": "python3"
  },
  "language_info": {
   "codemirror_mode": {
    "name": "ipython",
    "version": 3
   },
   "file_extension": ".py",
   "mimetype": "text/x-python",
   "name": "python",
   "nbconvert_exporter": "python",
   "pygments_lexer": "ipython3",
   "version": "3.11.2"
  }
 },
 "nbformat": 4,
 "nbformat_minor": 5
}

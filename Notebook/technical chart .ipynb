{
 "cells": [
  {
   "cell_type": "code",
   "execution_count": 1,
   "id": "948eb3ee-a696-4a86-8578-477ebbf6e3d8",
   "metadata": {},
   "outputs": [],
   "source": [
    "import pandas as pd\n",
    "import requests\n",
    "from bs4 import BeautifulSoup\n",
    "import numpy as np"
   ]
  },
  {
   "cell_type": "code",
   "execution_count": 2,
   "id": "c8489fa8-80b4-4e72-b2d7-d93c29fba758",
   "metadata": {},
   "outputs": [],
   "source": [
    "webpage=requests.get('https://in.investing.com/indices/bank-nifty-candlestick').text"
   ]
  },
  {
   "cell_type": "code",
   "execution_count": 3,
   "id": "663067eb-211c-4bc3-8c83-239a201fe613",
   "metadata": {},
   "outputs": [],
   "source": [
    "soup=BeautifulSoup(webpage,'lxml')"
   ]
  },
  {
   "cell_type": "code",
   "execution_count": null,
   "id": "b43e4fb9-34ed-42b6-a9e7-5319a3488ec2",
   "metadata": {},
   "outputs": [],
   "source": [
    "soup.find_all('h1')[0].text"
   ]
  },
  {
   "cell_type": "code",
   "execution_count": 5,
   "id": "3b1ba3e2-33f8-40c5-9bad-f6fe5a41e3a1",
   "metadata": {},
   "outputs": [],
   "source": [
    "chart=soup.find_all('div',class_='u-hidden')"
   ]
  },
  {
   "cell_type": "code",
   "execution_count": 12,
   "id": "b83d3568-c2b2-499e-bf33-0dd555175c84",
   "metadata": {},
   "outputs": [
    {
     "data": {
      "text/plain": [
       "[]"
      ]
     },
     "execution_count": 12,
     "metadata": {},
     "output_type": "execute_result"
    }
   ],
   "source": [
    "chart"
   ]
  },
  {
   "cell_type": "code",
   "execution_count": null,
   "id": "74ff5a54-ae77-45de-b9b8-52a536653500",
   "metadata": {},
   "outputs": [],
   "source": []
  },
  {
   "cell_type": "code",
   "execution_count": 16,
   "id": "a23da020-00a3-40e0-9d62-57885818c8b4",
   "metadata": {},
   "outputs": [
    {
     "name": "stdout",
     "output_type": "stream",
     "text": [
      "{'chart': {'result': [{'meta': {'currency': 'USD', 'symbol': 'AMRN', 'exchangeName': 'NGM', 'instrumentType': 'EQUITY', 'firstTradeDate': 733674600, 'regularMarketTime': 1694462401, 'gmtoffset': -14400, 'timezone': 'EDT', 'exchangeTimezoneName': 'America/New_York', 'regularMarketPrice': 1.01, 'chartPreviousClose': 3.19, 'priceHint': 4, 'currentTradingPeriod': {'pre': {'timezone': 'EDT', 'start': 1694505600, 'end': 1694525400, 'gmtoffset': -14400}, 'regular': {'timezone': 'EDT', 'start': 1694525400, 'end': 1694548800, 'gmtoffset': -14400}, 'post': {'timezone': 'EDT', 'start': 1694548800, 'end': 1694563200, 'gmtoffset': -14400}}, 'dataGranularity': '1mo', 'range': '5y', 'validRanges': ['1d', '5d', '1mo', '3mo', '6mo', '1y', '2y', '5y', '10y', 'ytd', 'max']}, 'timestamp': [1538366400, 1541044800, 1543640400, 1546318800, 1548997200, 1551416400, 1554091200, 1556683200, 1559361600, 1561953600, 1564632000, 1567310400, 1569902400, 1572580800, 1575176400, 1577854800, 1580533200, 1583038800, 1585713600, 1588305600, 1590984000, 1593576000, 1596254400, 1598932800, 1601524800, 1604203200, 1606798800, 1609477200, 1612155600, 1614574800, 1617249600, 1619841600, 1622520000, 1625112000, 1627790400, 1630468800, 1633060800, 1635739200, 1638334800, 1641013200, 1643691600, 1646110800, 1648785600, 1651377600, 1654056000, 1656648000, 1659326400, 1662004800, 1664596800, 1667275200, 1669870800, 1672549200, 1675227600, 1677646800, 1680321600, 1682913600, 1685592000, 1688184000, 1690862400, 1693540800, 1694462401], 'indicators': {'quote': [{'volume': [424449600, 294942500, 121307200, 208538800, 133858800, 196228500, 116650900, 124714400, 92258000, 281349300, 190125400, 115499700, 118760200, 297499300, 217332300, 171401300, 136008900, 322241000, 500815200, 161580500, 144164600, 105475600, 133245300, 297843400, 122346700, 165760700, 185341500, 148764300, 134095800, 136495800, 118067400, 72617900, 75879000, 64590300, 107744400, 55040200, 51720800, 98098000, 82381600, 110129800, 50722200, 60600100, 47443000, 142867500, 101083000, 60786700, 85627500, 77000000, 51243200, 50183300, 89292400, 122759800, 80328900, 86463400, 42046600, 57548000, 39219900, 70215300, 51455800, 7965100, 914129], 'open': [17.200000762939453, 20.8700008392334, 18.399999618530273, 13.260000228881836, 17.59000015258789, 20.670000076293945, 20.790000915527344, 18.450000762939453, 17.600000381469727, 19.770000457763672, 18.59000015258789, 15.25, 15.260000228881836, 16.510000228881836, 21.489999771118164, 21.799999237060547, 18.6200008392334, 15.359999656677246, 4.019999980926514, 7.400000095367432, 6.809999942779541, 6.840000152587891, 6.480000019073486, 7.760000228881836, 4.21999979019165, 4.869999885559082, 5.070000171661377, 4.940000057220459, 8.010000228881836, 6.920000076293945, 6.269999980926514, 5.099999904632568, 4.550000190734863, 4.440000057220459, 4.139999866485596, 5.480000019073486, 5.110000133514404, 4.789999961853027, 3.6500000953674316, 3.380000114440918, 3.6500000953674316, 3.3499999046325684, 3.2899999618530273, 2.7100000381469727, 1.4299999475479126, 1.4600000381469727, 1.3200000524520874, 1.159999966621399, 1.100000023841858, 1.2400000095367432, 1.1799999475479126, 1.2100000381469727, 1.850000023841858, 2.0, 1.4800000190734863, 1.3600000143051147, 1.2100000381469727, 1.190000057220459, 1.190000057220459, 1.0499999523162842, 1.0199999809265137], 'close': [20.829999923706055, 18.0, 13.609999656677246, 17.5, 20.469999313354492, 20.760000228881836, 18.700000762939453, 17.729999542236328, 19.389999389648438, 18.59000015258789, 14.989999771118164, 15.15999984741211, 16.420000076293945, 21.270000457763672, 21.440000534057617, 18.549999237060547, 14.670000076293945, 4.0, 7.610000133514404, 6.860000133514404, 6.920000076293945, 6.480000019073486, 7.760000228881836, 4.210000038146973, 4.860000133514404, 4.960000038146973, 4.889999866485596, 7.5, 6.739999771118164, 6.210000038146973, 5.090000152587891, 4.539999961853027, 4.380000114440918, 4.139999866485596, 5.440000057220459, 5.099999904632568, 4.769999980926514, 3.5999999046325684, 3.369999885559082, 3.619999885559082, 3.309999942779541, 3.2899999618530273, 2.690000057220459, 1.4500000476837158, 1.4900000095367432, 1.3300000429153442, 1.1799999475479126, 1.090000033378601, 1.2300000190734863, 1.149999976158142, 1.2100000381469727, 1.8600000143051147, 2.0299999713897705, 1.5, 1.350000023841858, 1.1699999570846558, 1.190000057220459, 1.2000000476837158, 1.0499999523162842, 1.0099999904632568, 1.0099999904632568], 'high': [23.100000381469727, 23.34000015258789, 18.489999771118164, 18.920000076293945, 21.5, 23.25, 20.969999313354492, 19.670000076293945, 19.950000762939453, 23.90999984741211, 18.600000381469727, 17.549999237060547, 17.1299991607666, 24.670000076293945, 26.1200008392334, 21.84000015258789, 19.219999313354492, 16.469999313354492, 8.460000038146973, 8.210000038146973, 7.590000152587891, 7.139999866485596, 7.829999923706055, 7.900000095367432, 5.570000171661377, 5.190000057220459, 5.550000190734863, 8.09000015258789, 9.25, 7.300000190734863, 6.579999923706055, 5.150000095367432, 5.059999942779541, 4.559999942779541, 5.96999979019165, 5.519999980926514, 5.239999771118164, 4.889999866485596, 3.7799999713897705, 3.700000047683716, 3.819999933242798, 3.4100000858306885, 3.740000009536743, 2.759999990463257, 2.0299999713897705, 1.649999976158142, 1.7100000381469727, 1.409999966621399, 1.309999942779541, 1.3799999952316284, 1.3300000429153442, 2.130000114440918, 2.2300000190734863, 2.130000114440918, 1.5, 1.4600000381469727, 1.3300000429153442, 1.4900000095367432, 1.2200000286102295, 1.090000033378601, 1.0298000574111938], 'low': [15.020000457763672, 13.5600004196167, 11.779999732971191, 12.4399995803833, 15.649999618530273, 16.649999618530273, 17.219999313354492, 16.200000762939453, 17.010000228881836, 17.25, 13.760000228881836, 14.6899995803833, 13.869999885559082, 16.350000381469727, 20.0, 18.280000686645508, 13.670000076293945, 3.950000047683716, 4.0, 6.489999771118164, 6.269999980926514, 6.300000190734863, 6.46999979019165, 3.359999895095825, 4.099999904632568, 3.9600000381469727, 4.449999809265137, 4.800000190734863, 6.71999979019165, 5.349999904632568, 4.860000133514404, 4.159999847412109, 4.360000133514404, 3.8399999141693115, 4.099999904632568, 4.949999809265137, 4.480000019073486, 3.4600000381469727, 3.109999895095825, 2.7899999618530273, 2.9200000762939453, 2.759999990463257, 2.6700000762939453, 1.1100000143051147, 1.399999976158142, 1.2000000476837158, 1.149999976158142, 1.0399999618530273, 1.059999942779541, 1.1200000047683716, 1.1299999952316284, 1.149999976158142, 1.7000000476837158, 1.4199999570846558, 1.2300000190734863, 1.1200000047683716, 1.100000023841858, 1.0800000429153442, 0.9599999785423279, 1.0, 1.0]}], 'adjclose': [{'adjclose': [20.829999923706055, 18.0, 13.609999656677246, 17.5, 20.469999313354492, 20.760000228881836, 18.700000762939453, 17.729999542236328, 19.389999389648438, 18.59000015258789, 14.989999771118164, 15.15999984741211, 16.420000076293945, 21.270000457763672, 21.440000534057617, 18.549999237060547, 14.670000076293945, 4.0, 7.610000133514404, 6.860000133514404, 6.920000076293945, 6.480000019073486, 7.760000228881836, 4.210000038146973, 4.860000133514404, 4.960000038146973, 4.889999866485596, 7.5, 6.739999771118164, 6.210000038146973, 5.090000152587891, 4.539999961853027, 4.380000114440918, 4.139999866485596, 5.440000057220459, 5.099999904632568, 4.769999980926514, 3.5999999046325684, 3.369999885559082, 3.619999885559082, 3.309999942779541, 3.2899999618530273, 2.690000057220459, 1.4500000476837158, 1.4900000095367432, 1.3300000429153442, 1.1799999475479126, 1.090000033378601, 1.2300000190734863, 1.149999976158142, 1.2100000381469727, 1.8600000143051147, 2.0299999713897705, 1.5, 1.350000023841858, 1.1699999570846558, 1.190000057220459, 1.2000000476837158, 1.0499999523162842, 1.0099999904632568, 1.0099999904632568]}]}}], 'error': None}}\n"
     ]
    }
   ],
   "source": [
    "import requests\n",
    "\n",
    "url = \"https://apidojo-yahoo-finance-v1.p.rapidapi.com/stock/v3/get-chart\"\n",
    "\n",
    "querystring = {\"interval\":\"1mo\",\"symbol\":\"AMRN\",\"range\":\"5y\",\"region\":\"US\",\"includePrePost\":\"false\",\"useYfid\":\"true\",\"includeAdjustedClose\":\"true\",\"events\":\"capitalGain,div,split\"}\n",
    "\n",
    "headers = {\n",
    "\t\"X-RapidAPI-Key\": \"9f7399d78dmsh0d7f57a217e9ba4p121776jsn600a82b122ac\",\n",
    "\t\"X-RapidAPI-Host\": \"apidojo-yahoo-finance-v1.p.rapidapi.com\"\n",
    "}\n",
    "\n",
    "response = requests.get(url, headers=headers, params=querystring)\n",
    "\n",
    "print(response.json())"
   ]
  },
  {
   "cell_type": "code",
   "execution_count": null,
   "id": "dd4ddd7b-c826-4fba-b276-2a1cd7a53a63",
   "metadata": {},
   "outputs": [],
   "source": []
  },
  {
   "cell_type": "code",
   "execution_count": 15,
   "id": "a576170f-bd49-4ab3-a02b-72d9e209be19",
   "metadata": {},
   "outputs": [
    {
     "name": "stdout",
     "output_type": "stream",
     "text": [
      "{'explains': [], 'count': 15, 'quotes': [{'exchange': 'NMS', 'shortname': 'Tesla, Inc.', 'quoteType': 'EQUITY', 'symbol': 'TSLA', 'index': 'quotes', 'score': 1264945.0, 'typeDisp': 'Equity', 'longname': 'Tesla, Inc.', 'exchDisp': 'NASDAQ', 'sector': 'Consumer Cyclical', 'sectorDisp': 'Consumer Cyclical', 'industry': 'Auto Manufacturers', 'industryDisp': 'Auto Manufacturers', 'dispSecIndFlag': True, 'isYahooFinance': True}, {'exchange': 'BUE', 'shortname': 'TESLA INC CEDEAR EACH 15 REP 1 ', 'quoteType': 'EQUITY', 'symbol': 'TSLA.BA', 'index': 'quotes', 'score': 20783.0, 'typeDisp': 'Equity', 'longname': 'Tesla, Inc.', 'exchDisp': 'Buenos Aires', 'sector': 'Consumer Cyclical', 'sectorDisp': 'Consumer Cyclical', 'industry': 'Auto Manufacturers', 'industryDisp': 'Auto Manufacturers', 'isYahooFinance': True}, {'exchange': 'NEO', 'shortname': 'TESLA, INC. CDR (CAD HEDGED)', 'quoteType': 'EQUITY', 'symbol': 'TSLA.NE', 'index': 'quotes', 'score': 20778.0, 'typeDisp': 'Equity', 'longname': 'Tesla, Inc.', 'exchDisp': 'NEO', 'sector': 'Consumer Cyclical', 'sectorDisp': 'Consumer Cyclical', 'industry': 'Auto Manufacturers', 'industryDisp': 'Auto Manufacturers', 'isYahooFinance': True}, {'exchange': 'GER', 'shortname': 'TESLA INC', 'quoteType': 'EQUITY', 'symbol': 'TL0.DE', 'index': 'quotes', 'score': 20661.0, 'typeDisp': 'Equity', 'longname': 'Tesla, Inc.', 'exchDisp': 'XETRA', 'sector': 'Consumer Cyclical', 'sectorDisp': 'Consumer Cyclical', 'industry': 'Auto Manufacturers', 'industryDisp': 'Auto Manufacturers', 'isYahooFinance': True}, {'exchange': 'LSE', 'shortname': 'LEVERAGE SHARES PUBLIC LIMITED ', 'quoteType': 'EQUITY', 'symbol': 'TSL3.L', 'index': 'quotes', 'score': 20485.0, 'typeDisp': 'Equity', 'longname': 'Leverage Shares 3x Tesla ETP Securities', 'exchDisp': 'London', 'isYahooFinance': True}, {'exchange': 'NEO', 'shortname': 'TESLA (TSLA) YIELD SHARES PURPO', 'quoteType': 'ETF', 'symbol': 'YTSL.NE', 'index': 'quotes', 'score': 20374.0, 'typeDisp': 'ETF', 'longname': 'Tesla (TSLA) Yield Shares Purpose ETF', 'exchDisp': 'NEO', 'isYahooFinance': True}, {'exchange': 'MEX', 'shortname': 'TESLA INC', 'quoteType': 'EQUITY', 'symbol': 'TSLA.MX', 'index': 'quotes', 'score': 20120.0, 'typeDisp': 'Equity', 'longname': 'Tesla, Inc.', 'exchDisp': 'Mexico', 'sector': 'Consumer Cyclical', 'sectorDisp': 'Consumer Cyclical', 'industry': 'Auto Manufacturers', 'industryDisp': 'Auto Manufacturers', 'isYahooFinance': True}], 'news': [{'uuid': '3b5b7477-0a4c-3298-816f-f97f527d470e', 'title': 'Tesla shares jump after Morgan Stanley predicts Dojo supercomputer could add $500 billion in market value', 'publisher': 'CNN Business', 'link': 'https://finance.yahoo.com/m/3b5b7477-0a4c-3298-816f-f97f527d470e/tesla-shares-jump-after.html', 'providerPublishTime': 1694482007, 'type': 'STORY', 'thumbnail': {'resolutions': [{'url': 'https://s.yimg.com/uu/api/res/1.2/6iiZ56jcW1EA_v.1Nx6nwg--~B/aD01NDA7dz05NjA7YXBwaWQ9eXRhY2h5b24-/https://media.zenfs.com/en/cnn_business_articles_218/7a8e3e471d325de80d88852537b7581f', 'width': 960, 'height': 540, 'tag': 'original'}, {'url': 'https://s.yimg.com/uu/api/res/1.2/Xin4EqZiQpEVx.cYH8bQ8A--~B/Zmk9ZmlsbDtoPTE0MDtweW9mZj0wO3c9MTQwO2FwcGlkPXl0YWNoeW9u/https://media.zenfs.com/en/cnn_business_articles_218/7a8e3e471d325de80d88852537b7581f', 'width': 140, 'height': 140, 'tag': '140x140'}]}}, {'uuid': '89792412-d3ed-31bd-a749-e63334742cce', 'title': 'Tesla & 2 Other Upgrades to Watch', 'publisher': 'Zacks', 'link': 'https://finance.yahoo.com/news/tesla-2-other-upgrades-watch-214900075.html', 'providerPublishTime': 1694468940, 'type': 'STORY', 'thumbnail': {'resolutions': [{'url': 'https://s.yimg.com/uu/api/res/1.2/seAnphnvgYq38muW33AO6w--~B/aD00MDA7dz02MzU7YXBwaWQ9eXRhY2h5b24-/https://media.zenfs.com/en/zacks.com/affdd39d2cfb5dfef2e1f5541ff50f90', 'width': 635, 'height': 400, 'tag': 'original'}, {'url': 'https://s.yimg.com/uu/api/res/1.2/qM9F9PGPp5tVak5MBTtiSA--~B/Zmk9ZmlsbDtoPTE0MDtweW9mZj0wO3c9MTQwO2FwcGlkPXl0YWNoeW9u/https://media.zenfs.com/en/zacks.com/affdd39d2cfb5dfef2e1f5541ff50f90', 'width': 140, 'height': 140, 'tag': '140x140'}]}, 'relatedTickers': ['TSLA', 'OC']}, {'uuid': '38ffd51c-7297-3c50-ab84-32c1df4f1677', 'title': 'Tesla Stock Jumps After Morgan Stanley Says Share Price Could Hit $400 Due to Dojo Supercomputer', 'publisher': 'The Wall Street Journal', 'link': 'https://finance.yahoo.com/m/38ffd51c-7297-3c50-ab84-32c1df4f1677/tesla-stock-jumps-after.html', 'providerPublishTime': 1694461527, 'type': 'STORY', 'thumbnail': {'resolutions': [{'url': 'https://s.yimg.com/uu/api/res/1.2/_KhdL_ye5aKq3J9eY42xRA--~B/aD02NDA7dz0xMjgwO2FwcGlkPXl0YWNoeW9u/https://media.zenfs.com/en/wsj.com/fc9307a164063d2d9f1e1b7295b0211a', 'width': 1280, 'height': 640, 'tag': 'original'}, {'url': 'https://s.yimg.com/uu/api/res/1.2/sY7AGhDv_hEr9kKWFQTQSg--~B/Zmk9ZmlsbDtoPTE0MDtweW9mZj0wO3c9MTQwO2FwcGlkPXl0YWNoeW9u/https://media.zenfs.com/en/wsj.com/fc9307a164063d2d9f1e1b7295b0211a', 'width': 140, 'height': 140, 'tag': '140x140'}]}, 'relatedTickers': ['TSLA']}, {'uuid': 'e10b2d9f-de48-3dd3-813d-cf114e16e390', 'title': 'Tesla rival unveils a new sporty electric limousine', 'publisher': 'TheStreet.com', 'link': 'https://finance.yahoo.com/m/e10b2d9f-de48-3dd3-813d-cf114e16e390/tesla-rival-unveils-a-new.html', 'providerPublishTime': 1694485260, 'type': 'STORY', 'thumbnail': {'resolutions': [{'url': 'https://s.yimg.com/uu/api/res/1.2/tqLQxeSjWhBP0QpimEWJ1A--~B/aD0xMDgwO3c9MTkyMDthcHBpZD15dGFjaHlvbg--/https://media.zenfs.com/en/thestreet.com/c07f7971a507b0a57029cf0eee8b53bd', 'width': 1920, 'height': 1080, 'tag': 'original'}, {'url': 'https://s.yimg.com/uu/api/res/1.2/xYBLy8OhPjF6UjPq4Ay0xg--~B/Zmk9ZmlsbDtoPTE0MDtweW9mZj0wO3c9MTQwO2FwcGlkPXl0YWNoeW9u/https://media.zenfs.com/en/thestreet.com/c07f7971a507b0a57029cf0eee8b53bd', 'width': 140, 'height': 140, 'tag': '140x140'}]}, 'relatedTickers': ['TSLA']}, {'uuid': '17d350f8-47d7-3e3c-877f-dba197efc12b', 'title': 'Tesla Surge Propels Stock Markets Higher', 'publisher': 'The Wall Street Journal', 'link': 'https://finance.yahoo.com/m/17d350f8-47d7-3e3c-877f-dba197efc12b/tesla-surge-propels-stock.html', 'providerPublishTime': 1694463660, 'type': 'STORY', 'thumbnail': {'resolutions': [{'url': 'https://s.yimg.com/uu/api/res/1.2/7otJOmyYfZ7OkAkC1ftQIQ--~B/aD02NDA7dz0xMjgwO2FwcGlkPXl0YWNoeW9u/https://media.zenfs.com/en/wsj.com/72f62cbe4443ac0ce4602a7f2d204430', 'width': 1280, 'height': 640, 'tag': 'original'}, {'url': 'https://s.yimg.com/uu/api/res/1.2/AkjAx6Pr59Eftlw3c9HvoA--~B/Zmk9ZmlsbDtoPTE0MDtweW9mZj0wO3c9MTQwO2FwcGlkPXl0YWNoeW9u/https://media.zenfs.com/en/wsj.com/72f62cbe4443ac0ce4602a7f2d204430', 'width': 140, 'height': 140, 'tag': '140x140'}]}}, {'uuid': 'b773e1cd-64c1-3cf2-8a0d-9b80795c1491', 'title': \"Tesla upgraded, Rent The Runway downgraded: Wall Street's top analyst calls\", 'publisher': 'The Fly', 'link': 'https://finance.yahoo.com/news/tesla-upgraded-rent-runway-downgraded-134313327.html', 'providerPublishTime': 1694439793, 'type': 'STORY', 'thumbnail': {'resolutions': [{'url': 'https://s.yimg.com/uu/api/res/1.2/ExrYFF5.NhedyF2fQ_Z04Q--~B/aD0zMDc7dz01NjM7YXBwaWQ9eXRhY2h5b24-/https://media.zenfs.com/en/the_fly_169/135b0749a3ad5e86fe326a9da1d664b6', 'width': 563, 'height': 307, 'tag': 'original'}, {'url': 'https://s.yimg.com/uu/api/res/1.2/5BVMhfg6gAhTfp5KplkmqA--~B/Zmk9ZmlsbDtoPTE0MDtweW9mZj0wO3c9MTQwO2FwcGlkPXl0YWNoeW9u/https://media.zenfs.com/en/the_fly_169/135b0749a3ad5e86fe326a9da1d664b6', 'width': 140, 'height': 140, 'tag': '140x140'}]}, 'relatedTickers': ['TSLA', 'TENB', 'BLBD', 'NU', 'RTX', 'BC', 'LHX', 'RENT', 'EVRG', 'SN', 'DASH', 'RJF', 'FUL', 'KVUE']}, {'uuid': 'e219ae01-3741-3ddb-9c58-7c1ff0762ef5', 'title': 'Foran Announces New Bridge Zone Discovery and 200m Strike Extension at Tesla', 'publisher': 'CNW Group', 'link': 'https://finance.yahoo.com/news/foran-announces-bridge-zone-discovery-100000739.html', 'providerPublishTime': 1694512800, 'type': 'STORY', 'thumbnail': {'resolutions': [{'url': 'https://s.yimg.com/uu/api/res/1.2/ZsFqRlXf0ZQak32a42xbMQ--~B/aD0yODU7dz00MDA7YXBwaWQ9eXRhY2h5b24-/https://media.zenfs.com/en/cnwgroup.com/f4ba2d22e387ecdd7030db022ce1cdad', 'width': 400, 'height': 285, 'tag': 'original'}, {'url': 'https://s.yimg.com/uu/api/res/1.2/5rDQJVeU23gQ_rI7KuRqUQ--~B/Zmk9ZmlsbDtoPTE0MDtweW9mZj0wO3c9MTQwO2FwcGlkPXl0YWNoeW9u/https://media.zenfs.com/en/cnwgroup.com/f4ba2d22e387ecdd7030db022ce1cdad', 'width': 140, 'height': 140, 'tag': '140x140'}]}, 'relatedTickers': ['FMCXF']}, {'uuid': 'bd3e9592-1cc2-3d2c-90c0-118654ae0f02', 'title': 'Tesla, suppliers to invest $15 billion in Mexico factory - local governor', 'publisher': 'Reuters', 'link': 'https://finance.yahoo.com/news/tesla-suppliers-invest-15-billion-032413582.html', 'providerPublishTime': 1694489053, 'type': 'STORY', 'thumbnail': {'resolutions': [{'url': 'https://s.yimg.com/uu/api/res/1.2/gjc6YvlCdjaxOvDt6eabYw--~B/aD01MzM7dz04MDA7YXBwaWQ9eXRhY2h5b24-/https://media.zenfs.com/en/reuters-finance.com/e7cdbd96ce20f1fd977847319da7eb0e', 'width': 800, 'height': 533, 'tag': 'original'}, {'url': 'https://s.yimg.com/uu/api/res/1.2/l8kLOMekOdTF77sv6.rGAA--~B/Zmk9ZmlsbDtoPTE0MDtweW9mZj0wO3c9MTQwO2FwcGlkPXl0YWNoeW9u/https://media.zenfs.com/en/reuters-finance.com/e7cdbd96ce20f1fd977847319da7eb0e', 'width': 140, 'height': 140, 'tag': '140x140'}]}, 'relatedTickers': ['TSLA']}], 'nav': [], 'lists': [], 'researchReports': [], 'screenerFieldResults': [], 'totalTime': 58, 'timeTakenForQuotes': 437, 'timeTakenForNews': 600, 'timeTakenForAlgowatchlist': 400, 'timeTakenForPredefinedScreener': 400, 'timeTakenForCrunchbase': 0, 'timeTakenForNav': 400, 'timeTakenForResearchReports': 0, 'timeTakenForScreenerField': 0, 'timeTakenForCulturalAssets': 0}\n"
     ]
    }
   ],
   "source": [
    "import requests\n",
    "\n",
    "url = \"https://apidojo-yahoo-finance-v1.p.rapidapi.com/auto-complete\"\n",
    "\n",
    "querystring = {\"q\":\"tesla\",\"region\":\"US\"}\n",
    "\n",
    "headers = {\n",
    "\t\"X-RapidAPI-Key\": \"9f7399d78dmsh0d7f57a217e9ba4p121776jsn600a82b122ac\",\n",
    "\t\"X-RapidAPI-Host\": \"apidojo-yahoo-finance-v1.p.rapidapi.com\"\n",
    "}\n",
    "\n",
    "response = requests.get(url, headers=headers, params=querystring)\n",
    "\n",
    "print(response.json())"
   ]
  },
  {
   "cell_type": "code",
   "execution_count": null,
   "id": "2048196c-6126-4cce-89ae-d3b708ceefca",
   "metadata": {},
   "outputs": [],
   "source": []
  },
  {
   "cell_type": "code",
   "execution_count": 13,
   "id": "22d22628-5818-423c-8993-204123fd91e8",
   "metadata": {},
   "outputs": [],
   "source": [
    "import requests\n",
    "\n",
    "# Replace 'YOUR_API_KEY' with your actual Alpha Vantage API key\n",
    "api_key = 'YOUR_API_KEY'\n",
    "\n",
    "# Define the symbol for the stock you want to track\n",
    "symbol = 'AAPL'\n",
    "\n",
    "# Make a request to Alpha Vantage for real-time stock price data\n",
    "url = f'https://www.alphavantage.co/query?function=TIME_SERIES_INTRADAY&symbol={symbol}&interval=1min&apikey={api_key}'\n",
    "\n",
    "response = requests.get(url)\n",
    "\n",
    "if response.status_code == 200:\n",
    "    data = response.json()\n",
    "    # Parse the data and use it to display or chart stock prices\n",
    "else:\n",
    "    print(\"Failed to retrieve data. Status code:\", response.status_code)"
   ]
  },
  {
   "cell_type": "code",
   "execution_count": null,
   "id": "e4096fe3-63e6-4350-9ea5-b69e2356f750",
   "metadata": {},
   "outputs": [],
   "source": []
  },
  {
   "cell_type": "code",
   "execution_count": null,
   "id": "bd3910ca-d5c3-4b68-b6eb-05b24b8763e5",
   "metadata": {},
   "outputs": [],
   "source": []
  },
  {
   "cell_type": "code",
   "execution_count": null,
   "id": "eec1a017-e5f2-433a-ba1e-4d77de9e0347",
   "metadata": {},
   "outputs": [],
   "source": []
  },
  {
   "cell_type": "code",
   "execution_count": 8,
   "id": "a1696557-c0b7-4c5e-9102-e976d1d8c0eb",
   "metadata": {},
   "outputs": [
    {
     "name": "stdout",
     "output_type": "stream",
     "text": [
      "Failed to retrieve the webpage. Status code: 403\n"
     ]
    }
   ],
   "source": [
    "import requests\n",
    "from bs4 import BeautifulSoup\n",
    "\n",
    "# Define the URL of the webpage you want to scrape\n",
    "url = \"https://in.investing.com/indices/bank-nifty-candlestick\"\n",
    "\n",
    "# Send an HTTP GET request to the URL\n",
    "response = requests.get(url)\n",
    "\n",
    "# Check if the request was successful\n",
    "if response.status_code == 200:\n",
    "    # Parse the HTML content of the page\n",
    "    soup = BeautifulSoup(response.text, 'html.parser')\n",
    "    \n",
    "    # Find and extract the technical chart or other data you need\n",
    "    # You'll need to inspect the HTML structure of the webpage and use appropriate selectors\n",
    "    chart_data = soup.find('div', class_='u-hidden')\n",
    "    \n",
    "    # Process and use the extracted data as needed\n",
    "    if chart_data:\n",
    "        # Do something with the chart data\n",
    "        print(chart_data)\n",
    "    else:\n",
    "        print(\"Chart data not found on the page.\")\n",
    "else:\n",
    "    print(\"Failed to retrieve the webpage. Status code:\", response.status_code)"
   ]
  },
  {
   "cell_type": "code",
   "execution_count": null,
   "id": "91f7cba4-5bfa-45f9-af9b-98bbf38d36f4",
   "metadata": {},
   "outputs": [],
   "source": []
  }
 ],
 "metadata": {
  "kernelspec": {
   "display_name": "Python 3 (ipykernel)",
   "language": "python",
   "name": "python3"
  },
  "language_info": {
   "codemirror_mode": {
    "name": "ipython",
    "version": 3
   },
   "file_extension": ".py",
   "mimetype": "text/x-python",
   "name": "python",
   "nbconvert_exporter": "python",
   "pygments_lexer": "ipython3",
   "version": "3.10.9"
  }
 },
 "nbformat": 4,
 "nbformat_minor": 5
}

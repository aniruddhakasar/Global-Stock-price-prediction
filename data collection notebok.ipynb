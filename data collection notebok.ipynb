{
 "cells": [
  {
   "cell_type": "code",
   "execution_count": 1,
   "id": "181315a8",
   "metadata": {},
   "outputs": [],
   "source": [
    "from selenium import webdriver\n",
    "from selenium.webdriver.common.keys import Keys\n",
    "from bs4 import BeautifulSoup\n",
    "import pandas as pd\n",
    "import time\n",
    "import os"
   ]
  },
  {
   "cell_type": "code",
   "execution_count": 2,
   "id": "7d389c8b",
   "metadata": {},
   "outputs": [],
   "source": [
    "# Set up the Selenium webdriver\n",
    "driver = webdriver.Chrome()\n",
    "url = 'https://finance.yahoo.com/quote/TATAPOWER.NS/history?period1=820454400&period2=1682899200&interval=1d&filter=history&frequency=1d&includeAdjustedClose=true'\n",
    "driver.get(url)\n",
    "# Wait for the page to load\n",
    "time.sleep(5)"
   ]
  },
  {
   "cell_type": "code",
   "execution_count": 3,
   "id": "a9745e80",
   "metadata": {},
   "outputs": [],
   "source": [
    "# Scroll to the bottom of the page to load more data\n",
    "driver.execute_script(\"window.scrollTo(0, document.body.scrollHeight);\")\n",
    "time.sleep(3)"
   ]
  },
  {
   "cell_type": "code",
   "execution_count": null,
   "id": "ce480ee8",
   "metadata": {},
   "outputs": [],
   "source": [
    "# Keep scrolling until the desired number of rows is reached\n",
    "while len(driver.find_elements('xpath', '//table/tbody/tr')) < 800:\n",
    "    driver.execute_script(\"window.scrollTo(0, document.body.scrollHeight);\")\n",
    "    time.sleep(2)"
   ]
  },
  {
   "cell_type": "code",
   "execution_count": null,
   "id": "6e915682",
   "metadata": {},
   "outputs": [],
   "source": [
    "# Get the page source after scrolling\n",
    "page_source = driver.page_source"
   ]
  },
  {
   "cell_type": "code",
   "execution_count": null,
   "id": "c80a01b6",
   "metadata": {},
   "outputs": [],
   "source": [
    "# Close the Selenium webdriver\n",
    "driver.quit()"
   ]
  },
  {
   "cell_type": "code",
   "execution_count": null,
   "id": "486440fb",
   "metadata": {},
   "outputs": [],
   "source": [
    "# Create a BeautifulSoup object with the page source\n",
    "soup = BeautifulSoup(page_source, 'html.parser')\n"
   ]
  },
  {
   "cell_type": "code",
   "execution_count": null,
   "id": "53f17209",
   "metadata": {},
   "outputs": [],
   "source": [
    "# Find the table containing the historical data\n",
    "table = soup.find('table')"
   ]
  },
  {
   "cell_type": "code",
   "execution_count": null,
   "id": "1637a13b",
   "metadata": {},
   "outputs": [],
   "source": [
    "# Create empty lists to store the data\n",
    "dates = []\n",
    "open_prices = []\n",
    "high_prices = []\n",
    "low_prices = []\n",
    "close_prices = []\n",
    "adj_close_prices = []\n",
    "volumes = []\n"
   ]
  },
  {
   "cell_type": "code",
   "execution_count": null,
   "id": "9a8bbe59",
   "metadata": {},
   "outputs": [],
   "source": [
    "# Extract data from each row of the table\n",
    "for row in table.tbody.find_all('tr'):\n",
    "    cols = row.find_all('td')\n",
    "    if len(cols) == 7:\n",
    "        date = cols[0].text\n",
    "        open_price = float(cols[1].text.replace(',', ''))\n",
    "        high_price = float(cols[2].text.replace(',', ''))\n",
    "        low_price = float(cols[3].text.replace(',', ''))\n",
    "        close_price = float(cols[4].text.replace(',', ''))\n",
    "        adj_close_price = float(cols[5].text.replace(',', ''))\n",
    "        volume = int(cols[6].text.replace(',', ''))\n",
    "        \n",
    "        dates.append(date)\n",
    "        open_prices.append(open_price)\n",
    "        high_prices.append(high_price)\n",
    "        low_prices.append(low_price)\n",
    "        close_prices.append(close_price)\n",
    "        adj_close_prices.append(adj_close_price)\n",
    "        volumes.append(volume)"
   ]
  },
  {
   "cell_type": "code",
   "execution_count": null,
   "id": "ede27116",
   "metadata": {},
   "outputs": [],
   "source": [
    "# Create a DataFrame from the collected data\n",
    "data = pd.DataFrame({\n",
    "    'Date': dates,\n",
    "    'Open': open_prices,\n",
    "    'High': high_prices,\n",
    "    'Low': low_prices,\n",
    "    'Close': close_prices,\n",
    "    'Adj Close': adj_close_prices,\n",
    "    'Volume': volumes\n",
    "})"
   ]
  },
  {
   "cell_type": "code",
   "execution_count": null,
   "id": "54a5350a",
   "metadata": {},
   "outputs": [],
   "source": [
    "# Define the file path for the CSV file\n",
    "csv_file_path = 'stock_data.csv'"
   ]
  },
  {
   "cell_type": "code",
   "execution_count": null,
   "id": "0259e9f6",
   "metadata": {},
   "outputs": [],
   "source": [
    "# Check if the CSV file exists and delete it if it does\n",
    "if os.path.exists(csv_file_path):\n",
    "    os.remove(csv_file_path)"
   ]
  },
  {
   "cell_type": "code",
   "execution_count": null,
   "id": "3b48dcba",
   "metadata": {},
   "outputs": [],
   "source": [
    "# Save the data as a CSV file\n",
    "data.to_csv(csv_file_path, index=False)"
   ]
  },
  {
   "cell_type": "code",
   "execution_count": null,
   "id": "235c3e8e",
   "metadata": {},
   "outputs": [],
   "source": [
    "print(\"Data saved as CSV:\", csv_file_path)\n",
    "print(data.head())"
   ]
  },
  {
   "cell_type": "code",
   "execution_count": null,
   "id": "2c5ab2c1",
   "metadata": {},
   "outputs": [],
   "source": []
  },
  {
   "cell_type": "code",
   "execution_count": null,
   "id": "121df577",
   "metadata": {},
   "outputs": [],
   "source": []
  },
  {
   "cell_type": "code",
   "execution_count": null,
   "id": "6cce6390",
   "metadata": {},
   "outputs": [],
   "source": []
  },
  {
   "cell_type": "code",
   "execution_count": null,
   "id": "9b475568",
   "metadata": {},
   "outputs": [],
   "source": []
  },
  {
   "cell_type": "code",
   "execution_count": null,
   "id": "15341d1a",
   "metadata": {},
   "outputs": [],
   "source": [
    "from selenium import webdriver\n",
    "from selenium.webdriver.common.keys import Keys\n",
    "from bs4 import BeautifulSoup\n",
    "import pandas as pd\n",
    "import time\n",
    "import os\n",
    "\n",
    "# Set up the Selenium webdriver\n",
    "driver = webdriver.Chrome()\n",
    "url = 'https://finance.yahoo.com/quote/TATAPOWER.NS/history?period1=820454400&period2=1682899200&interval=1d&filter=history&frequency=1d&includeAdjustedClose=true'\n",
    "driver.get(url)\n",
    "\n",
    "# Wait for the page to load\n",
    "time.sleep(5)\n",
    "\n",
    "# Scroll to the bottom of the page to load more data\n",
    "driver.execute_script(\"window.scrollTo(0, document.body.scrollHeight);\")\n",
    "time.sleep(3)\n",
    "\n",
    "# Keep scrolling until the desired number of rows is reached\n",
    "while len(driver.find_elements('xpath', '//table/tbody/tr')) < 1000:\n",
    "    driver.execute_script(\"window.scrollTo(0, document.body.scrollHeight);\")\n",
    "    time.sleep(2)\n",
    "\n",
    "# Get the page source after scrolling\n",
    "page_source = driver.page_source\n",
    "\n",
    "# Close the Selenium webdriver\n",
    "driver.quit()\n",
    "\n",
    "# Create a BeautifulSoup object with the page source\n",
    "soup = BeautifulSoup(page_source, 'html.parser')\n",
    "\n",
    "# Find the table containing the historical data\n",
    "table = soup.find('table')\n",
    "\n",
    "# Create empty lists to store the data\n",
    "dates = []\n",
    "open_prices = []\n",
    "high_prices = []\n",
    "low_prices = []\n",
    "close_prices = []\n",
    "adj_close_prices = []\n",
    "volumes = []\n",
    "\n",
    "# Extract data from each row of the table\n",
    "for row in table.tbody.find_all('tr'):\n",
    "    cols = row.find_all('td')\n",
    "    if len(cols) == 7:\n",
    "        date = cols[0].text\n",
    "        open_price = float(cols[1].text.replace(',', ''))\n",
    "        high_price = float(cols[2].text.replace(',', ''))\n",
    "        low_price = float(cols[3].text.replace(',', ''))\n",
    "        close_price = float(cols[4].text.replace(',', ''))\n",
    "        adj_close_price = float(cols[5].text.replace(',', ''))\n",
    "        volume = int(cols[6].text.replace(',', ''))\n",
    "        \n",
    "        dates.append(date)\n",
    "        open_prices.append(open_price)\n",
    "        high_prices.append(high_price)\n",
    "        low_prices.append(low_price)\n",
    "        close_prices.append(close_price)\n",
    "        adj_close_prices.append(adj_close_price)\n",
    "        volumes.append(volume)\n",
    "\n",
    "# Create a DataFrame from the collected data\n",
    "data = pd.DataFrame({\n",
    "    'Date': dates,\n",
    "    'Open': open_prices,\n",
    "    'High': high_prices,\n",
    "    'Low': low_prices,\n",
    "    'Close': close_prices,\n",
    "    'Adj Close': adj_close_prices,\n",
    "    'Volume': volumes\n",
    "})\n",
    "\n",
    "# Define the file path for the CSV file\n",
    "csv_file_path = 'stock_data.csv'\n",
    "\n",
    "# Check if the CSV file exists and delete it if it does\n",
    "if os.path.exists(csv_file_path):\n",
    "    os.remove(csv_file_path)\n",
    "\n",
    "# Save the data as a CSV file\n",
    "data.to_csv(csv_file_path, index=False)\n",
    "\n",
    "print(\"Data saved as CSV:\", csv_file_path)\n",
    "print(data.head())\n"
   ]
  },
  {
   "cell_type": "code",
   "execution_count": null,
   "id": "a3c1d776",
   "metadata": {},
   "outputs": [],
   "source": []
  }
 ],
 "metadata": {
  "kernelspec": {
   "display_name": "Python 3 (ipykernel)",
   "language": "python",
   "name": "python3"
  },
  "language_info": {
   "codemirror_mode": {
    "name": "ipython",
    "version": 3
   },
   "file_extension": ".py",
   "mimetype": "text/x-python",
   "name": "python",
   "nbconvert_exporter": "python",
   "pygments_lexer": "ipython3",
   "version": "3.11.2"
  }
 },
 "nbformat": 4,
 "nbformat_minor": 5
}

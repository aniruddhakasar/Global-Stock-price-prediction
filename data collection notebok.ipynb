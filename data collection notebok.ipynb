{
 "cells": [
  {
   "cell_type": "code",
   "execution_count": 2,
   "id": "d4a8517b",
   "metadata": {},
   "outputs": [],
   "source": [
    "from selenium import webdriver\n",
    "from seleniumwire import webdriver\n",
    "from selenium.webdriver.common.keys import Keys\n",
    "from bs4 import BeautifulSoup\n",
    "import pandas as pd\n",
    "import time\n",
    "import os"
   ]
  },
  {
   "cell_type": "code",
   "execution_count": 3,
   "id": "6a0d36b5",
   "metadata": {},
   "outputs": [],
   "source": [
    "# Set up the Selenium webdriver\n",
    "driver = webdriver.Chrome()\n",
    "url = 'https://finance.yahoo.com/quote/TATAPOWER.NS/history?period1=820454400&period2=1682899200&interval=1d&filter=history&frequency=1d&includeAdjustedClose=true'\n",
    "driver.get(url)\n",
    "# Wait for the page to load\n",
    "time.sleep(5)"
   ]
  },
  {
   "cell_type": "code",
   "execution_count": 4,
   "id": "2afe9094",
   "metadata": {},
   "outputs": [],
   "source": [
    "# Scroll to the bottom of the page to load more data\n",
    "driver.execute_script(\"window.scrollTo(0, document.body.scrollHeight);\")\n",
    "time.sleep(3)"
   ]
  },
  {
   "cell_type": "code",
   "execution_count": 5,
   "id": "cac14713",
   "metadata": {},
   "outputs": [
    {
     "ename": "NoSuchWindowException",
     "evalue": "Message: no such window: target window already closed\nfrom unknown error: web view not found\n  (Session info: chrome=113.0.5672.93)\nStacktrace:\nBacktrace:\n\tGetHandleVerifier [0x00F08893+48451]\n\t(No symbol) [0x00E9B8A1]\n\t(No symbol) [0x00DA5058]\n\t(No symbol) [0x00D8D073]\n\t(No symbol) [0x00DEDEBB]\n\t(No symbol) [0x00DFBFD3]\n\t(No symbol) [0x00DEA0B6]\n\t(No symbol) [0x00DC7E08]\n\t(No symbol) [0x00DC8F2D]\n\tGetHandleVerifier [0x01168E3A+2540266]\n\tGetHandleVerifier [0x011A8959+2801161]\n\tGetHandleVerifier [0x011A295C+2776588]\n\tGetHandleVerifier [0x00F92280+612144]\n\t(No symbol) [0x00EA4F6C]\n\t(No symbol) [0x00EA11D8]\n\t(No symbol) [0x00EA12BB]\n\t(No symbol) [0x00E94857]\n\tBaseThreadInitThunk [0x76A07D69+25]\n\tRtlInitializeExceptionChain [0x77BEBB9B+107]\n\tRtlClearBits [0x77BEBB1F+191]\n",
     "output_type": "error",
     "traceback": [
      "\u001b[1;31m---------------------------------------------------------------------------\u001b[0m",
      "\u001b[1;31mNoSuchWindowException\u001b[0m                     Traceback (most recent call last)",
      "Cell \u001b[1;32mIn[5], line 2\u001b[0m\n\u001b[0;32m      1\u001b[0m \u001b[38;5;66;03m# Keep scrolling until the desired number of rows is reached\u001b[39;00m\n\u001b[1;32m----> 2\u001b[0m \u001b[38;5;28;01mwhile\u001b[39;00m \u001b[38;5;28mlen\u001b[39m(\u001b[43mdriver\u001b[49m\u001b[38;5;241;43m.\u001b[39;49m\u001b[43mfind_elements\u001b[49m\u001b[43m(\u001b[49m\u001b[38;5;124;43m'\u001b[39;49m\u001b[38;5;124;43mxpath\u001b[39;49m\u001b[38;5;124;43m'\u001b[39;49m\u001b[43m,\u001b[49m\u001b[43m \u001b[49m\u001b[38;5;124;43m'\u001b[39;49m\u001b[38;5;124;43m//table/tbody/tr\u001b[39;49m\u001b[38;5;124;43m'\u001b[39;49m\u001b[43m)\u001b[49m) \u001b[38;5;241m<\u001b[39m \u001b[38;5;241m800\u001b[39m:\n\u001b[0;32m      3\u001b[0m     driver\u001b[38;5;241m.\u001b[39mexecute_script(\u001b[38;5;124m\"\u001b[39m\u001b[38;5;124mwindow.scrollTo(0, document.body.scrollHeight);\u001b[39m\u001b[38;5;124m\"\u001b[39m)\n\u001b[0;32m      4\u001b[0m     time\u001b[38;5;241m.\u001b[39msleep(\u001b[38;5;241m2\u001b[39m)\n",
      "File \u001b[1;32m~\\AppData\\Local\\Programs\\Python\\Python311\\Lib\\site-packages\\selenium\\webdriver\\remote\\webdriver.py:861\u001b[0m, in \u001b[0;36mWebDriver.find_elements\u001b[1;34m(self, by, value)\u001b[0m\n\u001b[0;32m    857\u001b[0m     value \u001b[38;5;241m=\u001b[39m \u001b[38;5;124mf\u001b[39m\u001b[38;5;124m'\u001b[39m\u001b[38;5;124m[name=\u001b[39m\u001b[38;5;124m\"\u001b[39m\u001b[38;5;132;01m{\u001b[39;00mvalue\u001b[38;5;132;01m}\u001b[39;00m\u001b[38;5;124m\"\u001b[39m\u001b[38;5;124m]\u001b[39m\u001b[38;5;124m'\u001b[39m\n\u001b[0;32m    859\u001b[0m \u001b[38;5;66;03m# Return empty list if driver returns null\u001b[39;00m\n\u001b[0;32m    860\u001b[0m \u001b[38;5;66;03m# See https://github.com/SeleniumHQ/selenium/issues/4555\u001b[39;00m\n\u001b[1;32m--> 861\u001b[0m \u001b[38;5;28;01mreturn\u001b[39;00m \u001b[38;5;28;43mself\u001b[39;49m\u001b[38;5;241;43m.\u001b[39;49m\u001b[43mexecute\u001b[49m\u001b[43m(\u001b[49m\u001b[43mCommand\u001b[49m\u001b[38;5;241;43m.\u001b[39;49m\u001b[43mFIND_ELEMENTS\u001b[49m\u001b[43m,\u001b[49m\u001b[43m \u001b[49m\u001b[43m{\u001b[49m\u001b[38;5;124;43m\"\u001b[39;49m\u001b[38;5;124;43musing\u001b[39;49m\u001b[38;5;124;43m\"\u001b[39;49m\u001b[43m:\u001b[49m\u001b[43m \u001b[49m\u001b[43mby\u001b[49m\u001b[43m,\u001b[49m\u001b[43m \u001b[49m\u001b[38;5;124;43m\"\u001b[39;49m\u001b[38;5;124;43mvalue\u001b[39;49m\u001b[38;5;124;43m\"\u001b[39;49m\u001b[43m:\u001b[49m\u001b[43m \u001b[49m\u001b[43mvalue\u001b[49m\u001b[43m}\u001b[49m\u001b[43m)\u001b[49m[\u001b[38;5;124m\"\u001b[39m\u001b[38;5;124mvalue\u001b[39m\u001b[38;5;124m\"\u001b[39m] \u001b[38;5;129;01mor\u001b[39;00m []\n",
      "File \u001b[1;32m~\\AppData\\Local\\Programs\\Python\\Python311\\Lib\\site-packages\\selenium\\webdriver\\remote\\webdriver.py:440\u001b[0m, in \u001b[0;36mWebDriver.execute\u001b[1;34m(self, driver_command, params)\u001b[0m\n\u001b[0;32m    438\u001b[0m response \u001b[38;5;241m=\u001b[39m \u001b[38;5;28mself\u001b[39m\u001b[38;5;241m.\u001b[39mcommand_executor\u001b[38;5;241m.\u001b[39mexecute(driver_command, params)\n\u001b[0;32m    439\u001b[0m \u001b[38;5;28;01mif\u001b[39;00m response:\n\u001b[1;32m--> 440\u001b[0m     \u001b[38;5;28;43mself\u001b[39;49m\u001b[38;5;241;43m.\u001b[39;49m\u001b[43merror_handler\u001b[49m\u001b[38;5;241;43m.\u001b[39;49m\u001b[43mcheck_response\u001b[49m\u001b[43m(\u001b[49m\u001b[43mresponse\u001b[49m\u001b[43m)\u001b[49m\n\u001b[0;32m    441\u001b[0m     response[\u001b[38;5;124m\"\u001b[39m\u001b[38;5;124mvalue\u001b[39m\u001b[38;5;124m\"\u001b[39m] \u001b[38;5;241m=\u001b[39m \u001b[38;5;28mself\u001b[39m\u001b[38;5;241m.\u001b[39m_unwrap_value(response\u001b[38;5;241m.\u001b[39mget(\u001b[38;5;124m\"\u001b[39m\u001b[38;5;124mvalue\u001b[39m\u001b[38;5;124m\"\u001b[39m, \u001b[38;5;28;01mNone\u001b[39;00m))\n\u001b[0;32m    442\u001b[0m     \u001b[38;5;28;01mreturn\u001b[39;00m response\n",
      "File \u001b[1;32m~\\AppData\\Local\\Programs\\Python\\Python311\\Lib\\site-packages\\selenium\\webdriver\\remote\\errorhandler.py:245\u001b[0m, in \u001b[0;36mErrorHandler.check_response\u001b[1;34m(self, response)\u001b[0m\n\u001b[0;32m    243\u001b[0m         alert_text \u001b[38;5;241m=\u001b[39m value[\u001b[38;5;124m\"\u001b[39m\u001b[38;5;124malert\u001b[39m\u001b[38;5;124m\"\u001b[39m]\u001b[38;5;241m.\u001b[39mget(\u001b[38;5;124m\"\u001b[39m\u001b[38;5;124mtext\u001b[39m\u001b[38;5;124m\"\u001b[39m)\n\u001b[0;32m    244\u001b[0m     \u001b[38;5;28;01mraise\u001b[39;00m exception_class(message, screen, stacktrace, alert_text)  \u001b[38;5;66;03m# type: ignore[call-arg]  # mypy is not smart enough here\u001b[39;00m\n\u001b[1;32m--> 245\u001b[0m \u001b[38;5;28;01mraise\u001b[39;00m exception_class(message, screen, stacktrace)\n",
      "\u001b[1;31mNoSuchWindowException\u001b[0m: Message: no such window: target window already closed\nfrom unknown error: web view not found\n  (Session info: chrome=113.0.5672.93)\nStacktrace:\nBacktrace:\n\tGetHandleVerifier [0x00F08893+48451]\n\t(No symbol) [0x00E9B8A1]\n\t(No symbol) [0x00DA5058]\n\t(No symbol) [0x00D8D073]\n\t(No symbol) [0x00DEDEBB]\n\t(No symbol) [0x00DFBFD3]\n\t(No symbol) [0x00DEA0B6]\n\t(No symbol) [0x00DC7E08]\n\t(No symbol) [0x00DC8F2D]\n\tGetHandleVerifier [0x01168E3A+2540266]\n\tGetHandleVerifier [0x011A8959+2801161]\n\tGetHandleVerifier [0x011A295C+2776588]\n\tGetHandleVerifier [0x00F92280+612144]\n\t(No symbol) [0x00EA4F6C]\n\t(No symbol) [0x00EA11D8]\n\t(No symbol) [0x00EA12BB]\n\t(No symbol) [0x00E94857]\n\tBaseThreadInitThunk [0x76A07D69+25]\n\tRtlInitializeExceptionChain [0x77BEBB9B+107]\n\tRtlClearBits [0x77BEBB1F+191]\n"
     ]
    }
   ],
   "source": [
    "# Keep scrolling until the desired number of rows is reached\n",
    "while len(driver.find_elements('xpath', '//table/tbody/tr')) < 800:\n",
    "    driver.execute_script(\"window.scrollTo(0, document.body.scrollHeight);\")\n",
    "    time.sleep(2)"
   ]
  },
  {
   "cell_type": "code",
   "execution_count": 6,
   "id": "b6d01cfa",
   "metadata": {},
   "outputs": [
    {
     "ename": "NoSuchWindowException",
     "evalue": "Message: no such window: target window already closed\nfrom unknown error: web view not found\n  (Session info: chrome=113.0.5672.93)\nStacktrace:\nBacktrace:\n\tGetHandleVerifier [0x00F08893+48451]\n\t(No symbol) [0x00E9B8A1]\n\t(No symbol) [0x00DA5058]\n\t(No symbol) [0x00D8D073]\n\t(No symbol) [0x00DEDEBB]\n\t(No symbol) [0x00DFBFD3]\n\t(No symbol) [0x00DEA0B6]\n\t(No symbol) [0x00DC7E08]\n\t(No symbol) [0x00DC8F2D]\n\tGetHandleVerifier [0x01168E3A+2540266]\n\tGetHandleVerifier [0x011A8959+2801161]\n\tGetHandleVerifier [0x011A295C+2776588]\n\tGetHandleVerifier [0x00F92280+612144]\n\t(No symbol) [0x00EA4F6C]\n\t(No symbol) [0x00EA11D8]\n\t(No symbol) [0x00EA12BB]\n\t(No symbol) [0x00E94857]\n\tBaseThreadInitThunk [0x76A07D69+25]\n\tRtlInitializeExceptionChain [0x77BEBB9B+107]\n\tRtlClearBits [0x77BEBB1F+191]\n",
     "output_type": "error",
     "traceback": [
      "\u001b[1;31m---------------------------------------------------------------------------\u001b[0m",
      "\u001b[1;31mNoSuchWindowException\u001b[0m                     Traceback (most recent call last)",
      "Cell \u001b[1;32mIn[6], line 2\u001b[0m\n\u001b[0;32m      1\u001b[0m \u001b[38;5;66;03m# Get the page source after scrolling\u001b[39;00m\n\u001b[1;32m----> 2\u001b[0m page_source \u001b[38;5;241m=\u001b[39m \u001b[43mdriver\u001b[49m\u001b[38;5;241;43m.\u001b[39;49m\u001b[43mpage_source\u001b[49m\n",
      "File \u001b[1;32m~\\AppData\\Local\\Programs\\Python\\Python311\\Lib\\site-packages\\selenium\\webdriver\\remote\\webdriver.py:541\u001b[0m, in \u001b[0;36mWebDriver.page_source\u001b[1;34m(self)\u001b[0m\n\u001b[0;32m    532\u001b[0m \u001b[38;5;129m@property\u001b[39m\n\u001b[0;32m    533\u001b[0m \u001b[38;5;28;01mdef\u001b[39;00m \u001b[38;5;21mpage_source\u001b[39m(\u001b[38;5;28mself\u001b[39m) \u001b[38;5;241m-\u001b[39m\u001b[38;5;241m>\u001b[39m \u001b[38;5;28mstr\u001b[39m:\n\u001b[0;32m    534\u001b[0m \u001b[38;5;250m    \u001b[39m\u001b[38;5;124;03m\"\"\"Gets the source of the current page.\u001b[39;00m\n\u001b[0;32m    535\u001b[0m \n\u001b[0;32m    536\u001b[0m \u001b[38;5;124;03m    :Usage:\u001b[39;00m\n\u001b[1;32m   (...)\u001b[0m\n\u001b[0;32m    539\u001b[0m \u001b[38;5;124;03m            driver.page_source\u001b[39;00m\n\u001b[0;32m    540\u001b[0m \u001b[38;5;124;03m    \"\"\"\u001b[39;00m\n\u001b[1;32m--> 541\u001b[0m     \u001b[38;5;28;01mreturn\u001b[39;00m \u001b[38;5;28;43mself\u001b[39;49m\u001b[38;5;241;43m.\u001b[39;49m\u001b[43mexecute\u001b[49m\u001b[43m(\u001b[49m\u001b[43mCommand\u001b[49m\u001b[38;5;241;43m.\u001b[39;49m\u001b[43mGET_PAGE_SOURCE\u001b[49m\u001b[43m)\u001b[49m[\u001b[38;5;124m\"\u001b[39m\u001b[38;5;124mvalue\u001b[39m\u001b[38;5;124m\"\u001b[39m]\n",
      "File \u001b[1;32m~\\AppData\\Local\\Programs\\Python\\Python311\\Lib\\site-packages\\selenium\\webdriver\\remote\\webdriver.py:440\u001b[0m, in \u001b[0;36mWebDriver.execute\u001b[1;34m(self, driver_command, params)\u001b[0m\n\u001b[0;32m    438\u001b[0m response \u001b[38;5;241m=\u001b[39m \u001b[38;5;28mself\u001b[39m\u001b[38;5;241m.\u001b[39mcommand_executor\u001b[38;5;241m.\u001b[39mexecute(driver_command, params)\n\u001b[0;32m    439\u001b[0m \u001b[38;5;28;01mif\u001b[39;00m response:\n\u001b[1;32m--> 440\u001b[0m     \u001b[38;5;28;43mself\u001b[39;49m\u001b[38;5;241;43m.\u001b[39;49m\u001b[43merror_handler\u001b[49m\u001b[38;5;241;43m.\u001b[39;49m\u001b[43mcheck_response\u001b[49m\u001b[43m(\u001b[49m\u001b[43mresponse\u001b[49m\u001b[43m)\u001b[49m\n\u001b[0;32m    441\u001b[0m     response[\u001b[38;5;124m\"\u001b[39m\u001b[38;5;124mvalue\u001b[39m\u001b[38;5;124m\"\u001b[39m] \u001b[38;5;241m=\u001b[39m \u001b[38;5;28mself\u001b[39m\u001b[38;5;241m.\u001b[39m_unwrap_value(response\u001b[38;5;241m.\u001b[39mget(\u001b[38;5;124m\"\u001b[39m\u001b[38;5;124mvalue\u001b[39m\u001b[38;5;124m\"\u001b[39m, \u001b[38;5;28;01mNone\u001b[39;00m))\n\u001b[0;32m    442\u001b[0m     \u001b[38;5;28;01mreturn\u001b[39;00m response\n",
      "File \u001b[1;32m~\\AppData\\Local\\Programs\\Python\\Python311\\Lib\\site-packages\\selenium\\webdriver\\remote\\errorhandler.py:245\u001b[0m, in \u001b[0;36mErrorHandler.check_response\u001b[1;34m(self, response)\u001b[0m\n\u001b[0;32m    243\u001b[0m         alert_text \u001b[38;5;241m=\u001b[39m value[\u001b[38;5;124m\"\u001b[39m\u001b[38;5;124malert\u001b[39m\u001b[38;5;124m\"\u001b[39m]\u001b[38;5;241m.\u001b[39mget(\u001b[38;5;124m\"\u001b[39m\u001b[38;5;124mtext\u001b[39m\u001b[38;5;124m\"\u001b[39m)\n\u001b[0;32m    244\u001b[0m     \u001b[38;5;28;01mraise\u001b[39;00m exception_class(message, screen, stacktrace, alert_text)  \u001b[38;5;66;03m# type: ignore[call-arg]  # mypy is not smart enough here\u001b[39;00m\n\u001b[1;32m--> 245\u001b[0m \u001b[38;5;28;01mraise\u001b[39;00m exception_class(message, screen, stacktrace)\n",
      "\u001b[1;31mNoSuchWindowException\u001b[0m: Message: no such window: target window already closed\nfrom unknown error: web view not found\n  (Session info: chrome=113.0.5672.93)\nStacktrace:\nBacktrace:\n\tGetHandleVerifier [0x00F08893+48451]\n\t(No symbol) [0x00E9B8A1]\n\t(No symbol) [0x00DA5058]\n\t(No symbol) [0x00D8D073]\n\t(No symbol) [0x00DEDEBB]\n\t(No symbol) [0x00DFBFD3]\n\t(No symbol) [0x00DEA0B6]\n\t(No symbol) [0x00DC7E08]\n\t(No symbol) [0x00DC8F2D]\n\tGetHandleVerifier [0x01168E3A+2540266]\n\tGetHandleVerifier [0x011A8959+2801161]\n\tGetHandleVerifier [0x011A295C+2776588]\n\tGetHandleVerifier [0x00F92280+612144]\n\t(No symbol) [0x00EA4F6C]\n\t(No symbol) [0x00EA11D8]\n\t(No symbol) [0x00EA12BB]\n\t(No symbol) [0x00E94857]\n\tBaseThreadInitThunk [0x76A07D69+25]\n\tRtlInitializeExceptionChain [0x77BEBB9B+107]\n\tRtlClearBits [0x77BEBB1F+191]\n"
     ]
    }
   ],
   "source": [
    "# Get the page source after scrolling\n",
    "page_source = driver.page_source"
   ]
  },
  {
   "cell_type": "code",
   "execution_count": 7,
   "id": "68227a0e",
   "metadata": {},
   "outputs": [
    {
     "ename": "NameError",
     "evalue": "name 'chromedriver_path' is not defined",
     "output_type": "error",
     "traceback": [
      "\u001b[1;31m---------------------------------------------------------------------------\u001b[0m",
      "\u001b[1;31mNameError\u001b[0m                                 Traceback (most recent call last)",
      "Cell \u001b[1;32mIn[7], line 3\u001b[0m\n\u001b[0;32m      1\u001b[0m \u001b[38;5;66;03m# Close the Selenium webdriver\u001b[39;00m\n\u001b[0;32m      2\u001b[0m driver\u001b[38;5;241m.\u001b[39mquit()\n\u001b[1;32m----> 3\u001b[0m driver \u001b[38;5;241m=\u001b[39m webdriver\u001b[38;5;241m.\u001b[39mChrome(executable_path\u001b[38;5;241m=\u001b[39m\u001b[43mchromedriver_path\u001b[49m, options\u001b[38;5;241m=\u001b[39moptions)\n",
      "\u001b[1;31mNameError\u001b[0m: name 'chromedriver_path' is not defined"
     ]
    }
   ],
   "source": [
    "# Close the Selenium webdriver\n",
    "driver.quit()\n",
    "driver = webdriver.Chrome(executable_path=chromedriver_path, options=options)"
   ]
  },
  {
   "cell_type": "code",
   "execution_count": null,
   "id": "b4ef6307",
   "metadata": {},
   "outputs": [],
   "source": [
    "# Create a BeautifulSoup object with the page source\n",
    "soup = BeautifulSoup(page_source, 'html.parser')\n"
   ]
  },
  {
   "cell_type": "code",
   "execution_count": null,
   "id": "9d9962ea",
   "metadata": {},
   "outputs": [],
   "source": [
    "# Find the table containing the historical data\n",
    "table = soup.find('table')"
   ]
  },
  {
   "cell_type": "code",
   "execution_count": null,
   "id": "291f99f5",
   "metadata": {},
   "outputs": [],
   "source": [
    "# Create empty lists to store the data\n",
    "dates = []\n",
    "open_prices = []\n",
    "high_prices = []\n",
    "low_prices = []\n",
    "close_prices = []\n",
    "adj_close_prices = []\n",
    "volumes = []\n"
   ]
  },
  {
   "cell_type": "code",
   "execution_count": null,
   "id": "5dbf076d",
   "metadata": {},
   "outputs": [],
   "source": [
    "# Extract data from each row of the table\n",
    "for row in table.tbody.find_all('tr'):\n",
    "    cols = row.find_all('td')\n",
    "    if len(cols) == 7:\n",
    "        date = cols[0].text\n",
    "        open_price = float(cols[1].text.replace(',', ''))\n",
    "        high_price = float(cols[2].text.replace(',', ''))\n",
    "        low_price = float(cols[3].text.replace(',', ''))\n",
    "        close_price = float(cols[4].text.replace(',', ''))\n",
    "        adj_close_price = float(cols[5].text.replace(',', ''))\n",
    "        volume = int(cols[6].text.replace(',', ''))\n",
    "        \n",
    "        dates.append(date)\n",
    "        open_prices.append(open_price)\n",
    "        high_prices.append(high_price)\n",
    "        low_prices.append(low_price)\n",
    "        close_prices.append(close_price)\n",
    "        adj_close_prices.append(adj_close_price)\n",
    "        volumes.append(volume)"
   ]
  },
  {
   "cell_type": "code",
   "execution_count": null,
   "id": "0a76b402",
   "metadata": {},
   "outputs": [],
   "source": [
    "# Create a DataFrame from the collected data\n",
    "data = pd.DataFrame({\n",
    "    'Date': dates,\n",
    "    'Open': open_prices,\n",
    "    'High': high_prices,\n",
    "    'Low': low_prices,\n",
    "    'Close': close_prices,\n",
    "    'Adj Close': adj_close_prices,\n",
    "    'Volume': volumes\n",
    "})"
   ]
  },
  {
   "cell_type": "code",
   "execution_count": null,
   "id": "f10ac221",
   "metadata": {},
   "outputs": [],
   "source": [
    "# Define the file path for the CSV file\n",
    "csv_file_path = 'stock_data.csv'"
   ]
  },
  {
   "cell_type": "code",
   "execution_count": null,
   "id": "0a1f2721",
   "metadata": {},
   "outputs": [],
   "source": [
    "# Check if the CSV file exists and delete it if it does\n",
    "if os.path.exists(csv_file_path):\n",
    "    os.remove(csv_file_path)"
   ]
  },
  {
   "cell_type": "code",
   "execution_count": null,
   "id": "8c25823d",
   "metadata": {},
   "outputs": [],
   "source": [
    "# Save the data as a CSV file\n",
    "data.to_csv(csv_file_path, index=False)"
   ]
  },
  {
   "cell_type": "code",
   "execution_count": null,
   "id": "891692aa",
   "metadata": {},
   "outputs": [],
   "source": [
    "print(\"Data saved as CSV:\", csv_file_path)\n",
    "print(data.head())"
   ]
  },
  {
   "cell_type": "code",
   "execution_count": null,
   "id": "1631bb47",
   "metadata": {},
   "outputs": [],
   "source": []
  },
  {
   "cell_type": "code",
   "execution_count": null,
   "id": "4e63de18",
   "metadata": {},
   "outputs": [],
   "source": []
  },
  {
   "cell_type": "code",
   "execution_count": null,
   "id": "cb3d5a11",
   "metadata": {},
   "outputs": [],
   "source": []
  },
  {
   "cell_type": "code",
   "execution_count": null,
   "id": "70125e0a",
   "metadata": {},
   "outputs": [],
   "source": []
  },
  {
   "cell_type": "code",
   "execution_count": null,
   "id": "b62248a5",
   "metadata": {},
   "outputs": [],
   "source": [
    "from selenium import webdriver\n",
    "from selenium.webdriver.common.keys import Keys\n",
    "from bs4 import BeautifulSoup\n",
    "import pandas as pd\n",
    "import time\n",
    "import os\n",
    "\n",
    "# Set up the Selenium webdriver\n",
    "driver = webdriver.Chrome()\n",
    "url = 'https://finance.yahoo.com/quote/TATAPOWER.NS/history?period1=820454400&period2=1682899200&interval=1d&filter=history&frequency=1d&includeAdjustedClose=true'\n",
    "driver.get(url)\n",
    "\n",
    "# Wait for the page to load\n",
    "time.sleep(5)\n",
    "\n",
    "# Scroll to the bottom of the page to load more data\n",
    "driver.execute_script(\"window.scrollTo(0, document.body.scrollHeight);\")\n",
    "time.sleep(3)\n",
    "\n",
    "# Keep scrolling until the desired number of rows is reached\n",
    "while len(driver.find_elements('xpath', '//table/tbody/tr')) < 100:\n",
    "    driver.execute_script(\"window.scrollTo(0, document.body.scrollHeight);\")\n",
    "    time.sleep(2)\n",
    "\n",
    "# Get the page source after scrolling\n",
    "page_source = driver.page_source\n",
    "\n",
    "# Close the Selenium webdriver\n",
    "driver.quit()\n",
    "\n",
    "# Create a BeautifulSoup object with the page source\n",
    "soup = BeautifulSoup(page_source, 'html.parser')\n",
    "\n",
    "# Find the table containing the historical data\n",
    "table = soup.find('table')\n",
    "\n",
    "# Create empty lists to store the data\n",
    "dates = []\n",
    "open_prices = []\n",
    "high_prices = []\n",
    "low_prices = []\n",
    "close_prices = []\n",
    "adj_close_prices = []\n",
    "volumes = []\n",
    "\n",
    "# Extract data from each row of the table\n",
    "for row in table.tbody.find_all('tr'):\n",
    "    cols = row.find_all('td')\n",
    "    if len(cols) == 7:\n",
    "        date = cols[0].text\n",
    "        open_price = float(cols[1].text.replace(',', ''))\n",
    "        high_price = float(cols[2].text.replace(',', ''))\n",
    "        low_price = float(cols[3].text.replace(',', ''))\n",
    "        close_price = float(cols[4].text.replace(',', ''))\n",
    "        adj_close_price = float(cols[5].text.replace(',', ''))\n",
    "        volume = int(cols[6].text.replace(',', ''))\n",
    "        \n",
    "        dates.append(date)\n",
    "        open_prices.append(open_price)\n",
    "        high_prices.append(high_price)\n",
    "        low_prices.append(low_price)\n",
    "        close_prices.append(close_price)\n",
    "        adj_close_prices.append(adj_close_price)\n",
    "        volumes.append(volume)\n",
    "\n",
    "# Create a DataFrame from the collected data\n",
    "data = pd.DataFrame({\n",
    "    'Date': dates,\n",
    "    'Open': open_prices,\n",
    "    'High': high_prices,\n",
    "    'Low': low_prices,\n",
    "    'Close': close_prices,\n",
    "    'Adj Close': adj_close_prices,\n",
    "    'Volume': volumes\n",
    "})\n",
    "\n",
    "# Define the file path for the CSV file\n",
    "csv_file_path = 'stock_data.csv'\n",
    "\n",
    "# Check if the CSV file exists and delete it if it does\n",
    "if os.path.exists(csv_file_path):\n",
    "    os.remove(csv_file_path)\n",
    "\n",
    "# Save the data as a CSV file\n",
    "data.to_csv(csv_file_path, index=False)\n",
    "\n",
    "print(\"Data saved as CSV:\", csv_file_path)\n",
    "print(data.head())\n"
   ]
  },
  {
   "cell_type": "code",
   "execution_count": null,
   "id": "52801670",
   "metadata": {},
   "outputs": [],
   "source": [
    "from selenium import webdriver\n",
    "from selenium.webdriver.common.keys import Keys\n",
    "from bs4 import BeautifulSoup\n",
    "import pandas as pd\n",
    "import time\n",
    "import os\n",
    "\n",
    "# Set up the Selenium webdriver\n",
    "driver = webdriver.Chrome()\n",
    "url = 'https://finance.yahoo.com/quote/TATAPOWER.NS/history?period1=820454400&period2=1682899200&interval=1d&filter=history&frequency=1d&includeAdjustedClose=true'\n",
    "driver.get(url)\n",
    "\n",
    "# Wait for the page to load\n",
    "time.sleep(5)\n",
    "\n",
    "# Scroll to the bottom of the page to load more data\n",
    "driver.execute_script(\"window.scrollTo(0, document.body.scrollHeight);\")\n",
    "time.sleep(3)\n",
    "\n",
    "# Keep scrolling until the desired number of rows is reached\n",
    "while len(driver.find_elements('xpath', '//table/tbody/tr')) < 1000:\n",
    "    driver.execute_script(\"window.scrollTo(0, document.body.scrollHeight);\")\n",
    "    time.sleep(2)\n",
    "\n",
    "# Get the page source after scrolling\n",
    "page_source = driver.page_source\n",
    "\n",
    "# Close the Selenium webdriver\n",
    "driver.quit()\n",
    "\n",
    "# Create a BeautifulSoup object with the page source\n",
    "soup = BeautifulSoup(page_source, 'html.parser')\n",
    "\n",
    "# Find the table containing the historical data\n",
    "table = soup.find('table')\n",
    "\n",
    "# Create empty lists to store the data\n",
    "dates = []\n",
    "open_prices = []\n",
    "high_prices = []\n",
    "low_prices = []\n",
    "close_prices = []\n",
    "adj_close_prices = []\n",
    "volumes = []\n",
    "\n",
    "# Extract data from each row of the table\n",
    "for row in table.tbody.find_all('tr'):\n",
    "    cols = row.find_all('td')\n",
    "    if len(cols) == 7:\n",
    "        date = cols[0].text\n",
    "        open_price = float(cols[1].text.replace(',', ''))\n",
    "        high_price = float(cols[2].text.replace(',', ''))\n",
    "        low_price = float(cols[3].text.replace(',', ''))\n",
    "        close_price = float(cols[4].text.replace(',', ''))\n",
    "        adj_close_price = float(cols[5].text.replace(',', ''))\n",
    "        volume = int(cols[6].text.replace(',', ''))\n",
    "        \n",
    "        dates.append(date)\n",
    "        open_prices.append(open_price)\n",
    "        high_prices.append(high_price)\n",
    "        low_prices.append(low_price)\n",
    "        close_prices.append(close_price)\n",
    "        adj_close_prices.append(adj_close_price)\n",
    "        volumes.append(volume)\n",
    "\n",
    "# Create a DataFrame from the collected data\n",
    "data = pd.DataFrame({\n",
    "    'Date': dates,\n",
    "    'Open': open_prices,\n",
    "    'High': high_prices,\n",
    "    'Low': low_prices,\n",
    "    'Close': close_prices,\n",
    "    'Adj Close': adj_close_prices,\n",
    "    'Volume': volumes\n",
    "})\n",
    "\n",
    "# Define the file path for the CSV file\n",
    "csv_file_path = 'stock_data.csv'\n",
    "\n",
    "# Check if the CSV file exists and delete it if it does\n",
    "if os.path.exists(csv_file_path):\n",
    "    os.remove(csv_file_path)\n",
    "\n",
    "# Save the data as a CSV file\n",
    "data.to_csv(csv_file_path, index=False)\n",
    "\n",
    "print(\"Data saved as CSV:\", csv_file_path)\n",
    "print(data.head())"
   ]
  },
  {
   "cell_type": "code",
   "execution_count": null,
   "id": "7cc02dff",
   "metadata": {},
   "outputs": [],
   "source": []
  }
 ],
 "metadata": {
  "kernelspec": {
   "display_name": "Python 3 (ipykernel)",
   "language": "python",
   "name": "python3"
  },
  "language_info": {
   "codemirror_mode": {
    "name": "ipython",
    "version": 3
   },
   "file_extension": ".py",
   "mimetype": "text/x-python",
   "name": "python",
   "nbconvert_exporter": "python",
   "pygments_lexer": "ipython3",
   "version": "3.11.2"
  }
 },
 "nbformat": 4,
 "nbformat_minor": 5
}
